{
 "cells": [
  {
   "cell_type": "markdown",
   "id": "e9045637-18c0-46fe-b845-81b67f50a06e",
   "metadata": {},
   "source": [
    "# Introduction Of The Problem Statement\n",
    "\n",
    "Customer segmentation is the process by which you divide your customers into segments up based on common characteristics – such as demographics or behaviors, so you can market to those customers more effectively.\n",
    "\n",
    "Customer segmentation is an effective tool for businesses to closely align their strategy and tactics with, and better target, their customers. Every customer is different and every customer journey is different so a single approach often isn’t going to work for all. This is where customer segmentation becomes a valuable process."
   ]
  },
  {
   "cell_type": "markdown",
   "id": "6fd9d9bf-9c82-4250-be38-c5dff9b32a80",
   "metadata": {},
   "source": [
    "Customer segmentation can be broken down into two types:\r\n",
    "\r\n",
    "Segmenting customers based on who they are: the process of understanding who customers are typically focuses on demographc\n",
    "s.\r\n",
    "Segmenting customers based on what they do: you can also segment customers based on how much they spend (share of wallet), how often, and what products (this allows you to see how much you can increase spend). This is more behavior focused. That's the data we have and the kind of segmentation we will \n",
    "\n",
    "## Research questi SET-1ons\n",
    "The information is crafted to facilitate a nuanced analysis of customer preferences, engagement patterns, and satisfaction levels, aiding businesses in making data-driven decisions to enhance the customer experien\n",
    "\n",
    "1. Demographic-Based Analysis\n",
    "Gender Distribution: Understanding the proportion of male vs. female customers.\n",
    "Gender & Age Analysis: Identifying trends in spending behavior across different age groups and genders.\n",
    "Gender & Membership Type: Examining how membership type preferences vary by gender.\n",
    "\n",
    "2. Customer Segmentation\n",
    "Customer Count by Age & Membership Type: Determining which age groups are more likely to opt for premium memberships.\n",
    "Membership Type Popularity: Analyzing the number of customers in each membership tier.\n",
    "Membership Type & Total Spend: Studying how spending varies across different membership types.\n",
    "\n",
    "3. Customer Loyalty & Engagement\n",
    "Average Membership Duration per Tier: Evaluating how long customers stay subscribed to different membership types.\n",
    "Days Since Last Purchase Distribution: Understanding the frequency of customer purchases and identifying inactive customers.\n",
    "\n",
    "4. Customer Satisfaction & Spending Habits\n",
    "Satisfaction Level vs. Customer Count: Determining how many customers fall into each satisfaction category.\n",
    "Satisfaction Level & Average Spend: Analyzing if happier customers spend more.\n",
    "Items Purchased vs. Satisfaction Level: Understanding how the number of items purchased correlates with customer satisfaction.\n",
    "\n",
    "5. Purchase & Discount Preferences\n",
    "Items Purchased vs. Gender: Identifying if purchase behavior differs between male and female customers.\n",
    "Discounts Applied by Gender: Studying whether males or females are more likely to use discounts.\n",
    "\n",
    "6. Product & Service Experience\n",
    "Average Rating vs. Satisfaction Level: Examining whether satisfaction levels align with product ratings.ce.\n",
    "\n",
    "## Research questi SET-2ons\n",
    "The aim of the study is to answer the below research questions:\n",
    "\n",
    "What is the general sales e\\nnd?\n",
    "What is an average cart by cot\\nry?\n",
    "What countries are the most ai\\nve?\n",
    "What are the best selling proc\\nts?\n",
    "How often do customers buy proc\\nts?\n",
    "How many new customers each months?\n",
    "When do customers tend to purchase products?do."
   ]
  },
  {
   "cell_type": "code",
   "execution_count": 304,
   "id": "0d30a9c9-5e55-42e5-b545-abefcd04c585",
   "metadata": {},
   "outputs": [],
   "source": [
    "import pandas as pd\n",
    "import numpy as np\n",
    "import matplotlib.pyplot as plt\n",
    "import seaborn as sns"
   ]
  },
  {
   "cell_type": "markdown",
   "id": "63bcdc1e-8c44-4d0e-bd4e-a7acf455eae2",
   "metadata": {
    "jp-MarkdownHeadingCollapsed": true
   },
   "source": [
    "# 1.Reading both the datasets"
   ]
  },
  {
   "cell_type": "code",
   "execution_count": 306,
   "id": "4c7e0d72-07ff-484e-93fc-dd3179e4e42b",
   "metadata": {},
   "outputs": [],
   "source": [
    "cs = pd.read_csv(\"unclean_customers.csv\")\n",
    "tn = pd.read_csv(\"unclean_transactions.csv\")"
   ]
  },
  {
   "cell_type": "code",
   "execution_count": 307,
   "id": "ce284f58-2396-4157-8dd8-e247dd323ae8",
   "metadata": {
    "scrolled": true
   },
   "outputs": [
    {
     "data": {
      "text/html": [
       "<div>\n",
       "<style scoped>\n",
       "    .dataframe tbody tr th:only-of-type {\n",
       "        vertical-align: middle;\n",
       "    }\n",
       "\n",
       "    .dataframe tbody tr th {\n",
       "        vertical-align: top;\n",
       "    }\n",
       "\n",
       "    .dataframe thead th {\n",
       "        text-align: right;\n",
       "    }\n",
       "</style>\n",
       "<table border=\"1\" class=\"dataframe\">\n",
       "  <thead>\n",
       "    <tr style=\"text-align: right;\">\n",
       "      <th></th>\n",
       "      <th>Customer ID</th>\n",
       "      <th>Gender</th>\n",
       "      <th>Age</th>\n",
       "      <th>City</th>\n",
       "      <th>Membership Type</th>\n",
       "      <th>Total Spend</th>\n",
       "      <th>Items Purchased</th>\n",
       "      <th>Average Rating</th>\n",
       "      <th>Discount Applied</th>\n",
       "      <th>Satisfaction Level</th>\n",
       "    </tr>\n",
       "  </thead>\n",
       "  <tbody>\n",
       "    <tr>\n",
       "      <th>0</th>\n",
       "      <td>17850.0</td>\n",
       "      <td>NaN</td>\n",
       "      <td>29.0</td>\n",
       "      <td>Los Angeles</td>\n",
       "      <td>Gold</td>\n",
       "      <td>8044.27</td>\n",
       "      <td>443.0</td>\n",
       "      <td>3.07</td>\n",
       "      <td>False</td>\n",
       "      <td>Neutral</td>\n",
       "    </tr>\n",
       "    <tr>\n",
       "      <th>1</th>\n",
       "      <td>13047.0</td>\n",
       "      <td>Female</td>\n",
       "      <td>NaN</td>\n",
       "      <td>Houston</td>\n",
       "      <td>Silver</td>\n",
       "      <td>7393.19</td>\n",
       "      <td>415.0</td>\n",
       "      <td>3.29</td>\n",
       "      <td>False</td>\n",
       "      <td>Neutral</td>\n",
       "    </tr>\n",
       "    <tr>\n",
       "      <th>2</th>\n",
       "      <td>12583.0</td>\n",
       "      <td>Male</td>\n",
       "      <td>56.0</td>\n",
       "      <td>NaN</td>\n",
       "      <td>NaN</td>\n",
       "      <td>3043.45</td>\n",
       "      <td>395.0</td>\n",
       "      <td>1.52</td>\n",
       "      <td>False</td>\n",
       "      <td>NaN</td>\n",
       "    </tr>\n",
       "    <tr>\n",
       "      <th>3</th>\n",
       "      <td>13748.0</td>\n",
       "      <td>NaN</td>\n",
       "      <td>26.0</td>\n",
       "      <td>Miami</td>\n",
       "      <td>Silver</td>\n",
       "      <td>679.77</td>\n",
       "      <td>134.0</td>\n",
       "      <td>4.36</td>\n",
       "      <td>False</td>\n",
       "      <td>Satisfied</td>\n",
       "    </tr>\n",
       "    <tr>\n",
       "      <th>4</th>\n",
       "      <td>15100.0</td>\n",
       "      <td>Male</td>\n",
       "      <td>52.0</td>\n",
       "      <td>Los Angeles</td>\n",
       "      <td>Bronze</td>\n",
       "      <td>1511.31</td>\n",
       "      <td>NaN</td>\n",
       "      <td>4.15</td>\n",
       "      <td>NaN</td>\n",
       "      <td>Neutral</td>\n",
       "    </tr>\n",
       "  </tbody>\n",
       "</table>\n",
       "</div>"
      ],
      "text/plain": [
       "   Customer ID  Gender   Age         City Membership Type  Total Spend  \\\n",
       "0      17850.0     NaN  29.0  Los Angeles            Gold      8044.27   \n",
       "1      13047.0  Female   NaN      Houston          Silver      7393.19   \n",
       "2      12583.0    Male  56.0          NaN             NaN      3043.45   \n",
       "3      13748.0     NaN  26.0        Miami          Silver       679.77   \n",
       "4      15100.0    Male  52.0  Los Angeles          Bronze      1511.31   \n",
       "\n",
       "   Items Purchased  Average Rating Discount Applied Satisfaction Level  \n",
       "0            443.0            3.07            False            Neutral  \n",
       "1            415.0            3.29            False            Neutral  \n",
       "2            395.0            1.52            False                NaN  \n",
       "3            134.0            4.36            False          Satisfied  \n",
       "4              NaN            4.15              NaN            Neutral  "
      ]
     },
     "execution_count": 307,
     "metadata": {},
     "output_type": "execute_result"
    }
   ],
   "source": [
    "cs.head()"
   ]
  },
  {
   "cell_type": "code",
   "execution_count": 308,
   "id": "e4a5c731-59e6-4fc1-b76f-c790d89e0ffe",
   "metadata": {},
   "outputs": [
    {
     "data": {
      "text/plain": [
       "(4372, 10)"
      ]
     },
     "execution_count": 308,
     "metadata": {},
     "output_type": "execute_result"
    }
   ],
   "source": [
    "cs.shape"
   ]
  },
  {
   "cell_type": "code",
   "execution_count": 309,
   "id": "3a0e962e-80f4-4411-b21a-ac5b434201b9",
   "metadata": {
    "scrolled": true
   },
   "outputs": [
    {
     "data": {
      "text/html": [
       "<div>\n",
       "<style scoped>\n",
       "    .dataframe tbody tr th:only-of-type {\n",
       "        vertical-align: middle;\n",
       "    }\n",
       "\n",
       "    .dataframe tbody tr th {\n",
       "        vertical-align: top;\n",
       "    }\n",
       "\n",
       "    .dataframe thead th {\n",
       "        text-align: right;\n",
       "    }\n",
       "</style>\n",
       "<table border=\"1\" class=\"dataframe\">\n",
       "  <thead>\n",
       "    <tr style=\"text-align: right;\">\n",
       "      <th></th>\n",
       "      <th>InvoiceNo</th>\n",
       "      <th>StockCode</th>\n",
       "      <th>Description</th>\n",
       "      <th>Quantity</th>\n",
       "      <th>InvoiceDate</th>\n",
       "      <th>UnitPrice</th>\n",
       "      <th>CustomerID</th>\n",
       "      <th>Country</th>\n",
       "    </tr>\n",
       "  </thead>\n",
       "  <tbody>\n",
       "    <tr>\n",
       "      <th>0</th>\n",
       "      <td>536365</td>\n",
       "      <td>85123A</td>\n",
       "      <td>WHITE HANGING HEART T-LIGHT HOLDER</td>\n",
       "      <td>6.0</td>\n",
       "      <td>12/1/2010 8:26</td>\n",
       "      <td>2.55</td>\n",
       "      <td>17850.0</td>\n",
       "      <td>United Kingdom</td>\n",
       "    </tr>\n",
       "    <tr>\n",
       "      <th>1</th>\n",
       "      <td>536365</td>\n",
       "      <td>71053</td>\n",
       "      <td>WHITE METAL LANTERN</td>\n",
       "      <td>6.0</td>\n",
       "      <td>12/1/2010 8:26</td>\n",
       "      <td>3.39</td>\n",
       "      <td>17850.0</td>\n",
       "      <td>NaN</td>\n",
       "    </tr>\n",
       "    <tr>\n",
       "      <th>2</th>\n",
       "      <td>NaN</td>\n",
       "      <td>NaN</td>\n",
       "      <td>CREAM CUPID HEARTS COAT HANGER</td>\n",
       "      <td>NaN</td>\n",
       "      <td>12/1/2010 8:26</td>\n",
       "      <td>2.75</td>\n",
       "      <td>17850.0</td>\n",
       "      <td>United Kingdom</td>\n",
       "    </tr>\n",
       "    <tr>\n",
       "      <th>3</th>\n",
       "      <td>536365</td>\n",
       "      <td>84029G</td>\n",
       "      <td>KNITTED UNION FLAG HOT WATER BOTTLE</td>\n",
       "      <td>6.0</td>\n",
       "      <td>12/1/2010 8:26</td>\n",
       "      <td>3.39</td>\n",
       "      <td>17850.0</td>\n",
       "      <td>United Kingdom</td>\n",
       "    </tr>\n",
       "    <tr>\n",
       "      <th>4</th>\n",
       "      <td>536365</td>\n",
       "      <td>84029E</td>\n",
       "      <td>RED WOOLLY HOTTIE WHITE HEART.</td>\n",
       "      <td>6.0</td>\n",
       "      <td>12/1/2010 8:26</td>\n",
       "      <td>3.39</td>\n",
       "      <td>17850.0</td>\n",
       "      <td>United Kingdom</td>\n",
       "    </tr>\n",
       "  </tbody>\n",
       "</table>\n",
       "</div>"
      ],
      "text/plain": [
       "  InvoiceNo StockCode                          Description  Quantity  \\\n",
       "0    536365    85123A   WHITE HANGING HEART T-LIGHT HOLDER       6.0   \n",
       "1    536365     71053                  WHITE METAL LANTERN       6.0   \n",
       "2       NaN       NaN       CREAM CUPID HEARTS COAT HANGER       NaN   \n",
       "3    536365    84029G  KNITTED UNION FLAG HOT WATER BOTTLE       6.0   \n",
       "4    536365    84029E       RED WOOLLY HOTTIE WHITE HEART.       6.0   \n",
       "\n",
       "      InvoiceDate  UnitPrice  CustomerID         Country  \n",
       "0  12/1/2010 8:26       2.55     17850.0  United Kingdom  \n",
       "1  12/1/2010 8:26       3.39     17850.0             NaN  \n",
       "2  12/1/2010 8:26       2.75     17850.0  United Kingdom  \n",
       "3  12/1/2010 8:26       3.39     17850.0  United Kingdom  \n",
       "4  12/1/2010 8:26       3.39     17850.0  United Kingdom  "
      ]
     },
     "execution_count": 309,
     "metadata": {},
     "output_type": "execute_result"
    }
   ],
   "source": [
    "tn.head()"
   ]
  },
  {
   "cell_type": "code",
   "execution_count": 310,
   "id": "8d233b57-bc9d-4e98-9163-6c7920fca5e2",
   "metadata": {},
   "outputs": [
    {
     "data": {
      "text/plain": [
       "(541909, 8)"
      ]
     },
     "execution_count": 310,
     "metadata": {},
     "output_type": "execute_result"
    }
   ],
   "source": [
    "tn.shape"
   ]
  },
  {
   "cell_type": "markdown",
   "id": "87458221-a7af-4cd1-ace3-95f69d48c3c0",
   "metadata": {
    "jp-MarkdownHeadingCollapsed": true
   },
   "source": [
    "# 2.Exploring and Cleaning "
   ]
  },
  {
   "cell_type": "markdown",
   "id": "e6ae40ae-a59f-4174-98cf-1f3fc8a40f0d",
   "metadata": {},
   "source": [
    "## Customer Dataset"
   ]
  },
  {
   "cell_type": "code",
   "execution_count": 313,
   "id": "f48f89ff-2e1c-4925-a387-f1a738ee627b",
   "metadata": {},
   "outputs": [
    {
     "data": {
      "text/html": [
       "<div>\n",
       "<style scoped>\n",
       "    .dataframe tbody tr th:only-of-type {\n",
       "        vertical-align: middle;\n",
       "    }\n",
       "\n",
       "    .dataframe tbody tr th {\n",
       "        vertical-align: top;\n",
       "    }\n",
       "\n",
       "    .dataframe thead th {\n",
       "        text-align: right;\n",
       "    }\n",
       "</style>\n",
       "<table border=\"1\" class=\"dataframe\">\n",
       "  <thead>\n",
       "    <tr style=\"text-align: right;\">\n",
       "      <th></th>\n",
       "      <th>Customer ID</th>\n",
       "      <th>Gender</th>\n",
       "      <th>Age</th>\n",
       "      <th>City</th>\n",
       "      <th>Membership Type</th>\n",
       "      <th>Total Spend</th>\n",
       "      <th>Items Purchased</th>\n",
       "      <th>Average Rating</th>\n",
       "      <th>Discount Applied</th>\n",
       "      <th>Satisfaction Level</th>\n",
       "    </tr>\n",
       "  </thead>\n",
       "  <tbody>\n",
       "    <tr>\n",
       "      <th>0</th>\n",
       "      <td>17850.0</td>\n",
       "      <td>NaN</td>\n",
       "      <td>29.0</td>\n",
       "      <td>Los Angeles</td>\n",
       "      <td>Gold</td>\n",
       "      <td>8044.27</td>\n",
       "      <td>443.0</td>\n",
       "      <td>3.07</td>\n",
       "      <td>False</td>\n",
       "      <td>Neutral</td>\n",
       "    </tr>\n",
       "    <tr>\n",
       "      <th>1</th>\n",
       "      <td>13047.0</td>\n",
       "      <td>Female</td>\n",
       "      <td>NaN</td>\n",
       "      <td>Houston</td>\n",
       "      <td>Silver</td>\n",
       "      <td>7393.19</td>\n",
       "      <td>415.0</td>\n",
       "      <td>3.29</td>\n",
       "      <td>False</td>\n",
       "      <td>Neutral</td>\n",
       "    </tr>\n",
       "    <tr>\n",
       "      <th>2</th>\n",
       "      <td>12583.0</td>\n",
       "      <td>Male</td>\n",
       "      <td>56.0</td>\n",
       "      <td>NaN</td>\n",
       "      <td>NaN</td>\n",
       "      <td>3043.45</td>\n",
       "      <td>395.0</td>\n",
       "      <td>1.52</td>\n",
       "      <td>False</td>\n",
       "      <td>NaN</td>\n",
       "    </tr>\n",
       "    <tr>\n",
       "      <th>3</th>\n",
       "      <td>13748.0</td>\n",
       "      <td>NaN</td>\n",
       "      <td>26.0</td>\n",
       "      <td>Miami</td>\n",
       "      <td>Silver</td>\n",
       "      <td>679.77</td>\n",
       "      <td>134.0</td>\n",
       "      <td>4.36</td>\n",
       "      <td>False</td>\n",
       "      <td>Satisfied</td>\n",
       "    </tr>\n",
       "    <tr>\n",
       "      <th>4</th>\n",
       "      <td>15100.0</td>\n",
       "      <td>Male</td>\n",
       "      <td>52.0</td>\n",
       "      <td>Los Angeles</td>\n",
       "      <td>Bronze</td>\n",
       "      <td>1511.31</td>\n",
       "      <td>NaN</td>\n",
       "      <td>4.15</td>\n",
       "      <td>NaN</td>\n",
       "      <td>Neutral</td>\n",
       "    </tr>\n",
       "  </tbody>\n",
       "</table>\n",
       "</div>"
      ],
      "text/plain": [
       "   Customer ID  Gender   Age         City Membership Type  Total Spend  \\\n",
       "0      17850.0     NaN  29.0  Los Angeles            Gold      8044.27   \n",
       "1      13047.0  Female   NaN      Houston          Silver      7393.19   \n",
       "2      12583.0    Male  56.0          NaN             NaN      3043.45   \n",
       "3      13748.0     NaN  26.0        Miami          Silver       679.77   \n",
       "4      15100.0    Male  52.0  Los Angeles          Bronze      1511.31   \n",
       "\n",
       "   Items Purchased  Average Rating Discount Applied Satisfaction Level  \n",
       "0            443.0            3.07            False            Neutral  \n",
       "1            415.0            3.29            False            Neutral  \n",
       "2            395.0            1.52            False                NaN  \n",
       "3            134.0            4.36            False          Satisfied  \n",
       "4              NaN            4.15              NaN            Neutral  "
      ]
     },
     "execution_count": 313,
     "metadata": {},
     "output_type": "execute_result"
    }
   ],
   "source": [
    "cs.head()"
   ]
  },
  {
   "cell_type": "code",
   "execution_count": 314,
   "id": "e6a7c7a4-9453-49a7-a2c8-cf26d9a054f6",
   "metadata": {
    "scrolled": true
   },
   "outputs": [
    {
     "name": "stdout",
     "output_type": "stream",
     "text": [
      "<class 'pandas.core.frame.DataFrame'>\n",
      "RangeIndex: 4372 entries, 0 to 4371\n",
      "Data columns (total 10 columns):\n",
      " #   Column              Non-Null Count  Dtype  \n",
      "---  ------              --------------  -----  \n",
      " 0   Customer ID         3935 non-null   float64\n",
      " 1   Gender              3961 non-null   object \n",
      " 2   Age                 3935 non-null   float64\n",
      " 3   City                3964 non-null   object \n",
      " 4   Membership Type     3956 non-null   object \n",
      " 5   Total Spend         3935 non-null   float64\n",
      " 6   Items Purchased     3935 non-null   float64\n",
      " 7   Average Rating      3935 non-null   float64\n",
      " 8   Discount Applied    3935 non-null   object \n",
      " 9   Satisfaction Level  3961 non-null   object \n",
      "dtypes: float64(5), object(5)\n",
      "memory usage: 341.7+ KB\n"
     ]
    }
   ],
   "source": [
    "cs.info()"
   ]
  },
  {
   "cell_type": "markdown",
   "id": "deef760d-815d-43d6-8e5d-16af3f062b1d",
   "metadata": {},
   "source": [
    "Null values are there so lets check"
   ]
  },
  {
   "cell_type": "markdown",
   "id": "6811f024-741f-4c8a-98b7-795267c45bb8",
   "metadata": {},
   "source": [
    "### Treating Null"
   ]
  },
  {
   "cell_type": "code",
   "execution_count": 317,
   "id": "40332a1a-e6d8-4933-945b-87685e861fbd",
   "metadata": {
    "scrolled": true
   },
   "outputs": [
    {
     "data": {
      "text/plain": [
       "Customer ID           9.995425\n",
       "Gender                9.400732\n",
       "Age                   9.995425\n",
       "City                  9.332113\n",
       "Membership Type       9.515096\n",
       "Total Spend           9.995425\n",
       "Items Purchased       9.995425\n",
       "Average Rating        9.995425\n",
       "Discount Applied      9.995425\n",
       "Satisfaction Level    9.400732\n",
       "dtype: float64"
      ]
     },
     "execution_count": 317,
     "metadata": {},
     "output_type": "execute_result"
    }
   ],
   "source": [
    "(cs.isnull().sum()/len(cs))*100"
   ]
  },
  {
   "cell_type": "markdown",
   "id": "b360c334-ce35-4a3c-a76a-11f3420e29c3",
   "metadata": {},
   "source": [
    "Every column here is having null values of around 10% so it's not logical to drop the column instead we can try to impute it . If the null percentage of any column is greater than 30 % or so , we would have dropped that column. But we need to drop the null in the column Customer id."
   ]
  },
  {
   "cell_type": "code",
   "execution_count": 319,
   "id": "8ca0fa55-bee0-4693-a7c4-0cb18249bb2b",
   "metadata": {},
   "outputs": [
    {
     "data": {
      "text/plain": [
       "90.00457456541628"
      ]
     },
     "execution_count": 319,
     "metadata": {},
     "output_type": "execute_result"
    }
   ],
   "source": [
    "#percentage of data remaining after dropping nan in customer id\n",
    "(cs.dropna(subset=['Customer ID']).shape[0]/cs.shape[0])*100  "
   ]
  },
  {
   "cell_type": "code",
   "execution_count": 320,
   "id": "c3355f77-e3cc-4050-a77c-f3c44fe43dd6",
   "metadata": {},
   "outputs": [
    {
     "data": {
      "text/plain": [
       "(3935, 10)"
      ]
     },
     "execution_count": 320,
     "metadata": {},
     "output_type": "execute_result"
    }
   ],
   "source": [
    "cs = cs.dropna(subset=['Customer ID'])\n",
    "cs.shape"
   ]
  },
  {
   "cell_type": "code",
   "execution_count": 321,
   "id": "f9e7c934-b805-46a6-9f5a-7b8c040ad166",
   "metadata": {},
   "outputs": [],
   "source": [
    "# changing Customer ID datatype to interger\n",
    "cs['Customer ID'] = cs['Customer ID'].astype('object')"
   ]
  },
  {
   "cell_type": "code",
   "execution_count": 322,
   "id": "cbb9067f-27a0-4f0c-9a98-9ae434e3d28d",
   "metadata": {},
   "outputs": [
    {
     "data": {
      "text/plain": [
       "Index(['Customer ID', 'Gender', 'Age', 'City', 'Membership Type',\n",
       "       'Total Spend', 'Items Purchased', 'Average Rating', 'Discount Applied',\n",
       "       'Satisfaction Level'],\n",
       "      dtype='object')"
      ]
     },
     "execution_count": 322,
     "metadata": {},
     "output_type": "execute_result"
    }
   ],
   "source": [
    "cs.columns"
   ]
  },
  {
   "cell_type": "code",
   "execution_count": 323,
   "id": "3a5f7c29-03ff-4dda-a4f2-441c0b74f0d2",
   "metadata": {},
   "outputs": [],
   "source": [
    "# separating them into numeric and categorical\n",
    "categ_cols = ['Gender', 'Membership Type','Discount Applied','Satisfaction Level','City']\n",
    "for cols in categ_cols:\n",
    "    cs[cols] = cs[cols].fillna(cs[cols].mode()[0])\n",
    "\n",
    "numerical_cols = ['Age', 'Total Spend', 'Items Purchased', 'Average Rating']\n",
    "for col in numerical_cols:\n",
    "    cs[col] = cs[col].fillna(cs[col].median())"
   ]
  },
  {
   "cell_type": "code",
   "execution_count": 324,
   "id": "05c9f14b-33cd-4500-ad7d-bd57d14f378c",
   "metadata": {},
   "outputs": [],
   "source": [
    "# considerin every numeric separately\n",
    "cs['Age'] = cs['Age'].astype(int) # age can not be float"
   ]
  },
  {
   "cell_type": "code",
   "execution_count": 325,
   "id": "a1dcccc2-4a22-4f5d-963a-70f3bcdce8b7",
   "metadata": {},
   "outputs": [
    {
     "data": {
      "text/plain": [
       "Customer ID           0\n",
       "Gender                0\n",
       "Age                   0\n",
       "City                  0\n",
       "Membership Type       0\n",
       "Total Spend           0\n",
       "Items Purchased       0\n",
       "Average Rating        0\n",
       "Discount Applied      0\n",
       "Satisfaction Level    0\n",
       "dtype: int64"
      ]
     },
     "execution_count": 325,
     "metadata": {},
     "output_type": "execute_result"
    }
   ],
   "source": [
    "cs.isnull().sum()"
   ]
  },
  {
   "cell_type": "markdown",
   "id": "87d7f3f3-f111-4bf8-8731-9c01662ec7dc",
   "metadata": {},
   "source": [
    "### Treating Duplicates"
   ]
  },
  {
   "cell_type": "code",
   "execution_count": 327,
   "id": "85b8b712-f8b7-42ba-8c9c-a079da3dcbef",
   "metadata": {},
   "outputs": [
    {
     "data": {
      "text/plain": [
       "0"
      ]
     },
     "execution_count": 327,
     "metadata": {},
     "output_type": "execute_result"
    }
   ],
   "source": [
    "# check for customer duplicated\n",
    "cs.duplicated().sum()"
   ]
  },
  {
   "cell_type": "code",
   "execution_count": 328,
   "id": "c7839d3d-ee3c-4b30-a667-44b88a9854b7",
   "metadata": {},
   "outputs": [
    {
     "data": {
      "text/plain": [
       "0"
      ]
     },
     "execution_count": 328,
     "metadata": {},
     "output_type": "execute_result"
    }
   ],
   "source": [
    "cs.duplicated().sum(axis=0)"
   ]
  },
  {
   "cell_type": "markdown",
   "id": "78b075d7-728f-4310-98d3-d634976ae9ee",
   "metadata": {},
   "source": [
    "No duplicates are there ."
   ]
  },
  {
   "cell_type": "code",
   "execution_count": 330,
   "id": "a93b2bdc-3119-4a0c-9868-b43bb793762d",
   "metadata": {},
   "outputs": [
    {
     "data": {
      "text/plain": [
       "(3935, 10)"
      ]
     },
     "execution_count": 330,
     "metadata": {},
     "output_type": "execute_result"
    }
   ],
   "source": [
    "cs.sample(10)\n",
    "cs.shape"
   ]
  },
  {
   "cell_type": "markdown",
   "id": "9eae0380-9874-4ac4-851b-6f9b18998056",
   "metadata": {},
   "source": [
    "So the Customer dataset looks clean to proceed further."
   ]
  },
  {
   "cell_type": "markdown",
   "id": "44efba73-13b4-49ef-a56d-247023c7fcc8",
   "metadata": {},
   "source": [
    "## Transaction dataset"
   ]
  },
  {
   "cell_type": "code",
   "execution_count": 333,
   "id": "5536c94e-6520-4f64-aeb7-3bc28118d1c6",
   "metadata": {
    "scrolled": true
   },
   "outputs": [
    {
     "data": {
      "text/html": [
       "<div>\n",
       "<style scoped>\n",
       "    .dataframe tbody tr th:only-of-type {\n",
       "        vertical-align: middle;\n",
       "    }\n",
       "\n",
       "    .dataframe tbody tr th {\n",
       "        vertical-align: top;\n",
       "    }\n",
       "\n",
       "    .dataframe thead th {\n",
       "        text-align: right;\n",
       "    }\n",
       "</style>\n",
       "<table border=\"1\" class=\"dataframe\">\n",
       "  <thead>\n",
       "    <tr style=\"text-align: right;\">\n",
       "      <th></th>\n",
       "      <th>InvoiceNo</th>\n",
       "      <th>StockCode</th>\n",
       "      <th>Description</th>\n",
       "      <th>Quantity</th>\n",
       "      <th>InvoiceDate</th>\n",
       "      <th>UnitPrice</th>\n",
       "      <th>CustomerID</th>\n",
       "      <th>Country</th>\n",
       "    </tr>\n",
       "  </thead>\n",
       "  <tbody>\n",
       "    <tr>\n",
       "      <th>0</th>\n",
       "      <td>536365</td>\n",
       "      <td>85123A</td>\n",
       "      <td>WHITE HANGING HEART T-LIGHT HOLDER</td>\n",
       "      <td>6.0</td>\n",
       "      <td>12/1/2010 8:26</td>\n",
       "      <td>2.55</td>\n",
       "      <td>17850.0</td>\n",
       "      <td>United Kingdom</td>\n",
       "    </tr>\n",
       "    <tr>\n",
       "      <th>1</th>\n",
       "      <td>536365</td>\n",
       "      <td>71053</td>\n",
       "      <td>WHITE METAL LANTERN</td>\n",
       "      <td>6.0</td>\n",
       "      <td>12/1/2010 8:26</td>\n",
       "      <td>3.39</td>\n",
       "      <td>17850.0</td>\n",
       "      <td>NaN</td>\n",
       "    </tr>\n",
       "    <tr>\n",
       "      <th>2</th>\n",
       "      <td>NaN</td>\n",
       "      <td>NaN</td>\n",
       "      <td>CREAM CUPID HEARTS COAT HANGER</td>\n",
       "      <td>NaN</td>\n",
       "      <td>12/1/2010 8:26</td>\n",
       "      <td>2.75</td>\n",
       "      <td>17850.0</td>\n",
       "      <td>United Kingdom</td>\n",
       "    </tr>\n",
       "    <tr>\n",
       "      <th>3</th>\n",
       "      <td>536365</td>\n",
       "      <td>84029G</td>\n",
       "      <td>KNITTED UNION FLAG HOT WATER BOTTLE</td>\n",
       "      <td>6.0</td>\n",
       "      <td>12/1/2010 8:26</td>\n",
       "      <td>3.39</td>\n",
       "      <td>17850.0</td>\n",
       "      <td>United Kingdom</td>\n",
       "    </tr>\n",
       "    <tr>\n",
       "      <th>4</th>\n",
       "      <td>536365</td>\n",
       "      <td>84029E</td>\n",
       "      <td>RED WOOLLY HOTTIE WHITE HEART.</td>\n",
       "      <td>6.0</td>\n",
       "      <td>12/1/2010 8:26</td>\n",
       "      <td>3.39</td>\n",
       "      <td>17850.0</td>\n",
       "      <td>United Kingdom</td>\n",
       "    </tr>\n",
       "  </tbody>\n",
       "</table>\n",
       "</div>"
      ],
      "text/plain": [
       "  InvoiceNo StockCode                          Description  Quantity  \\\n",
       "0    536365    85123A   WHITE HANGING HEART T-LIGHT HOLDER       6.0   \n",
       "1    536365     71053                  WHITE METAL LANTERN       6.0   \n",
       "2       NaN       NaN       CREAM CUPID HEARTS COAT HANGER       NaN   \n",
       "3    536365    84029G  KNITTED UNION FLAG HOT WATER BOTTLE       6.0   \n",
       "4    536365    84029E       RED WOOLLY HOTTIE WHITE HEART.       6.0   \n",
       "\n",
       "      InvoiceDate  UnitPrice  CustomerID         Country  \n",
       "0  12/1/2010 8:26       2.55     17850.0  United Kingdom  \n",
       "1  12/1/2010 8:26       3.39     17850.0             NaN  \n",
       "2  12/1/2010 8:26       2.75     17850.0  United Kingdom  \n",
       "3  12/1/2010 8:26       3.39     17850.0  United Kingdom  \n",
       "4  12/1/2010 8:26       3.39     17850.0  United Kingdom  "
      ]
     },
     "execution_count": 333,
     "metadata": {},
     "output_type": "execute_result"
    }
   ],
   "source": [
    "tn.head()"
   ]
  },
  {
   "cell_type": "code",
   "execution_count": 334,
   "id": "ed0989a6-d1e7-4149-921d-4e8251cae59d",
   "metadata": {},
   "outputs": [
    {
     "data": {
      "text/plain": [
       "array(['United Kingdom', nan, 'France', 'Australia', 'Netherlands',\n",
       "       'Germany', 'Norway', 'EIRE', 'Switzerland', 'Spain', 'Poland',\n",
       "       'Portugal', 'Italy', 'Belgium', 'Lithuania', 'Japan', 'Iceland',\n",
       "       'Channel Islands', 'Denmark', 'Cyprus', 'Sweden', 'Austria',\n",
       "       'Israel', 'Finland', 'Bahrain', 'Greece', 'Hong Kong', 'Singapore',\n",
       "       'Lebanon', 'United Arab Emirates', 'Saudi Arabia',\n",
       "       'Czech Republic', 'Canada', 'Unspecified', 'Brazil', 'USA',\n",
       "       'European Community', 'Malta', 'RSA'], dtype=object)"
      ]
     },
     "execution_count": 334,
     "metadata": {},
     "output_type": "execute_result"
    }
   ],
   "source": [
    "tn['Country'].unique()"
   ]
  },
  {
   "cell_type": "code",
   "execution_count": 335,
   "id": "bf59a1a4-d571-4f2a-bb81-0e8b78583cec",
   "metadata": {},
   "outputs": [
    {
     "name": "stdout",
     "output_type": "stream",
     "text": [
      "<class 'pandas.core.frame.DataFrame'>\n",
      "RangeIndex: 541909 entries, 0 to 541908\n",
      "Data columns (total 8 columns):\n",
      " #   Column       Non-Null Count   Dtype  \n",
      "---  ------       --------------   -----  \n",
      " 0   InvoiceNo    487718 non-null  object \n",
      " 1   StockCode    487718 non-null  object \n",
      " 2   Description  486422 non-null  object \n",
      " 3   Quantity     487718 non-null  float64\n",
      " 4   InvoiceDate  487718 non-null  object \n",
      " 5   UnitPrice    487718 non-null  float64\n",
      " 6   CustomerID   366338 non-null  float64\n",
      " 7   Country      487718 non-null  object \n",
      "dtypes: float64(3), object(5)\n",
      "memory usage: 33.1+ MB\n"
     ]
    }
   ],
   "source": [
    "tn.info()"
   ]
  },
  {
   "cell_type": "markdown",
   "id": "a13e6656-af80-4272-bb4c-f49284ce917a",
   "metadata": {},
   "source": [
    "### Null Values treatment"
   ]
  },
  {
   "cell_type": "code",
   "execution_count": 337,
   "id": "069bf5ce-921b-4dcc-9474-d7fb18e7e319",
   "metadata": {},
   "outputs": [
    {
     "data": {
      "text/plain": [
       "InvoiceNo       54191\n",
       "StockCode       54191\n",
       "Description     55487\n",
       "Quantity        54191\n",
       "InvoiceDate     54191\n",
       "UnitPrice       54191\n",
       "CustomerID     175571\n",
       "Country         54191\n",
       "dtype: int64"
      ]
     },
     "execution_count": 337,
     "metadata": {},
     "output_type": "execute_result"
    }
   ],
   "source": [
    "tn.isnull().sum()"
   ]
  },
  {
   "cell_type": "code",
   "execution_count": 338,
   "id": "f195fd54-3cda-4dad-8e81-00674bd34189",
   "metadata": {},
   "outputs": [],
   "source": [
    "tn = tn.dropna(subset=['CustomerID'])\n",
    "tn['CustomerID'] = tn['CustomerID'].astype('object')"
   ]
  },
  {
   "cell_type": "code",
   "execution_count": 339,
   "id": "86c3f325-0494-4dad-a274-b3aef6932480",
   "metadata": {},
   "outputs": [
    {
     "data": {
      "text/plain": [
       "InvoiceNo       9.941912\n",
       "StockCode      10.042911\n",
       "Description     9.988863\n",
       "Quantity        9.975487\n",
       "InvoiceDate    10.003876\n",
       "UnitPrice      10.007698\n",
       "CustomerID      0.000000\n",
       "Country         9.995141\n",
       "dtype: float64"
      ]
     },
     "execution_count": 339,
     "metadata": {},
     "output_type": "execute_result"
    }
   ],
   "source": [
    "(tn.isnull().sum()/tn.shape[0])*100"
   ]
  },
  {
   "cell_type": "code",
   "execution_count": 340,
   "id": "7901dcbb-adef-44fe-adc7-e294928e6987",
   "metadata": {},
   "outputs": [],
   "source": [
    "tn = tn.drop(columns = ['Country'])"
   ]
  },
  {
   "cell_type": "code",
   "execution_count": 341,
   "id": "34f5af71-9b99-4828-ab47-8c273befcd80",
   "metadata": {},
   "outputs": [
    {
     "data": {
      "text/plain": [
       "Index(['InvoiceNo', 'StockCode', 'Description', 'Quantity', 'InvoiceDate',\n",
       "       'UnitPrice', 'CustomerID'],\n",
       "      dtype='object')"
      ]
     },
     "execution_count": 341,
     "metadata": {},
     "output_type": "execute_result"
    }
   ],
   "source": [
    "tn.columns"
   ]
  },
  {
   "cell_type": "code",
   "execution_count": 342,
   "id": "7e5ead40-d05c-4e9d-8908-8e616d276ef5",
   "metadata": {},
   "outputs": [],
   "source": [
    "# considering each col separatelhy\n",
    "tn = tn.dropna(subset=['InvoiceNo','InvoiceDate'])\n",
    "\n",
    "# categorical columns\n",
    "catg_cols = ['Description','StockCode']\n",
    "for col in ['Description', 'StockCode']:\n",
    "    tn[col] = tn[col].fillna(tn[col].mode()[0])\n",
    "\n",
    "# numerical columns\n",
    "num_col = ['Quantity','UnitPrice']\n",
    "for cols in num_col:\n",
    "    tn[cols] = tn[cols].fillna(tn[cols].mode()[0])"
   ]
  },
  {
   "cell_type": "code",
   "execution_count": 343,
   "id": "0c59e785-6d2f-41db-8100-ea419675e9e8",
   "metadata": {},
   "outputs": [
    {
     "data": {
      "text/plain": [
       "InvoiceNo      0\n",
       "StockCode      0\n",
       "Description    0\n",
       "Quantity       0\n",
       "InvoiceDate    0\n",
       "UnitPrice      0\n",
       "CustomerID     0\n",
       "dtype: int64"
      ]
     },
     "execution_count": 343,
     "metadata": {},
     "output_type": "execute_result"
    }
   ],
   "source": [
    "tn.isnull().sum()"
   ]
  },
  {
   "cell_type": "code",
   "execution_count": 344,
   "id": "4f2460fa-56fb-43d6-848e-3a2c0a9575db",
   "metadata": {},
   "outputs": [
    {
     "data": {
      "text/plain": [
       "292714"
      ]
     },
     "execution_count": 344,
     "metadata": {},
     "output_type": "execute_result"
    }
   ],
   "source": [
    "# we will not drop these duplicated data because it is a transaction data many customers have made payments no . of time \n",
    "tn['CustomerID'].duplicated().sum()"
   ]
  },
  {
   "cell_type": "markdown",
   "id": "aa75797b-feff-4004-9441-b262a0095ace",
   "metadata": {},
   "source": [
    "### Outlier Treatment"
   ]
  },
  {
   "cell_type": "code",
   "execution_count": 346,
   "id": "85a55dfe-a5ff-4852-8ff8-3afde2a4529a",
   "metadata": {},
   "outputs": [
    {
     "data": {
      "text/html": [
       "<div>\n",
       "<style scoped>\n",
       "    .dataframe tbody tr th:only-of-type {\n",
       "        vertical-align: middle;\n",
       "    }\n",
       "\n",
       "    .dataframe tbody tr th {\n",
       "        vertical-align: top;\n",
       "    }\n",
       "\n",
       "    .dataframe thead th {\n",
       "        text-align: right;\n",
       "    }\n",
       "</style>\n",
       "<table border=\"1\" class=\"dataframe\">\n",
       "  <thead>\n",
       "    <tr style=\"text-align: right;\">\n",
       "      <th></th>\n",
       "      <th>InvoiceNo</th>\n",
       "      <th>StockCode</th>\n",
       "      <th>Description</th>\n",
       "      <th>Quantity</th>\n",
       "      <th>InvoiceDate</th>\n",
       "      <th>UnitPrice</th>\n",
       "      <th>CustomerID</th>\n",
       "      <th>Total Price</th>\n",
       "    </tr>\n",
       "  </thead>\n",
       "  <tbody>\n",
       "    <tr>\n",
       "      <th>0</th>\n",
       "      <td>536365</td>\n",
       "      <td>85123A</td>\n",
       "      <td>WHITE HANGING HEART T-LIGHT HOLDER</td>\n",
       "      <td>6.0</td>\n",
       "      <td>12/1/2010 8:26</td>\n",
       "      <td>2.55</td>\n",
       "      <td>17850.0</td>\n",
       "      <td>15.30</td>\n",
       "    </tr>\n",
       "    <tr>\n",
       "      <th>1</th>\n",
       "      <td>536365</td>\n",
       "      <td>71053</td>\n",
       "      <td>WHITE METAL LANTERN</td>\n",
       "      <td>6.0</td>\n",
       "      <td>12/1/2010 8:26</td>\n",
       "      <td>3.39</td>\n",
       "      <td>17850.0</td>\n",
       "      <td>20.34</td>\n",
       "    </tr>\n",
       "    <tr>\n",
       "      <th>3</th>\n",
       "      <td>536365</td>\n",
       "      <td>84029G</td>\n",
       "      <td>KNITTED UNION FLAG HOT WATER BOTTLE</td>\n",
       "      <td>6.0</td>\n",
       "      <td>12/1/2010 8:26</td>\n",
       "      <td>3.39</td>\n",
       "      <td>17850.0</td>\n",
       "      <td>20.34</td>\n",
       "    </tr>\n",
       "    <tr>\n",
       "      <th>4</th>\n",
       "      <td>536365</td>\n",
       "      <td>84029E</td>\n",
       "      <td>RED WOOLLY HOTTIE WHITE HEART.</td>\n",
       "      <td>6.0</td>\n",
       "      <td>12/1/2010 8:26</td>\n",
       "      <td>3.39</td>\n",
       "      <td>17850.0</td>\n",
       "      <td>20.34</td>\n",
       "    </tr>\n",
       "    <tr>\n",
       "      <th>5</th>\n",
       "      <td>536365</td>\n",
       "      <td>22752</td>\n",
       "      <td>SET 7 BABUSHKA NESTING BOXES</td>\n",
       "      <td>2.0</td>\n",
       "      <td>12/1/2010 8:26</td>\n",
       "      <td>7.65</td>\n",
       "      <td>17850.0</td>\n",
       "      <td>15.30</td>\n",
       "    </tr>\n",
       "  </tbody>\n",
       "</table>\n",
       "</div>"
      ],
      "text/plain": [
       "  InvoiceNo StockCode                          Description  Quantity  \\\n",
       "0    536365    85123A   WHITE HANGING HEART T-LIGHT HOLDER       6.0   \n",
       "1    536365     71053                  WHITE METAL LANTERN       6.0   \n",
       "3    536365    84029G  KNITTED UNION FLAG HOT WATER BOTTLE       6.0   \n",
       "4    536365    84029E       RED WOOLLY HOTTIE WHITE HEART.       6.0   \n",
       "5    536365     22752         SET 7 BABUSHKA NESTING BOXES       2.0   \n",
       "\n",
       "      InvoiceDate  UnitPrice CustomerID  Total Price  \n",
       "0  12/1/2010 8:26       2.55    17850.0        15.30  \n",
       "1  12/1/2010 8:26       3.39    17850.0        20.34  \n",
       "3  12/1/2010 8:26       3.39    17850.0        20.34  \n",
       "4  12/1/2010 8:26       3.39    17850.0        20.34  \n",
       "5  12/1/2010 8:26       7.65    17850.0        15.30  "
      ]
     },
     "execution_count": 346,
     "metadata": {},
     "output_type": "execute_result"
    }
   ],
   "source": [
    "# total price col\n",
    "tn['Total Price'] = tn['UnitPrice']*tn['Quantity']\n",
    "tn.head()"
   ]
  },
  {
   "cell_type": "code",
   "execution_count": 347,
   "id": "913acc30-c498-4dbc-bae9-5619812cf2ae",
   "metadata": {},
   "outputs": [
    {
     "data": {
      "image/png": "[encoded data removed]",
      "text/plain": [
       "<Figure size 1500x800 with 3 Axes>"
      ]
     },
     "metadata": {},
     "output_type": "display_data"
    }
   ],
   "source": [
    "fig,axes = plt.subplots(1,3,figsize=(15,8))\n",
    "fig.suptitle(\"Visualizations of Outliers\",size = 20)\n",
    "\n",
    "sns.boxplot(data = tn,y = \"UnitPrice\",ax = axes[0])\n",
    "axes[0].set_title(\"Unit Price\")\n",
    "\n",
    "sns.boxplot(data = tn , y = \"Quantity\" , ax = axes[1])\n",
    "axes[1].set_title(\"Quantity\")\n",
    "\n",
    "sns.boxplot(data = tn , y = \"Total Price\", ax = axes[2])\n",
    "axes[2].set_title(\"Total Price\")\n",
    "\n",
    "plt.show()"
   ]
  },
  {
   "cell_type": "code",
   "execution_count": 348,
   "id": "6a5c2677-4764-470f-afc8-99d4dfdef85b",
   "metadata": {},
   "outputs": [
    {
     "data": {
      "text/plain": [
       "(297058, 8)"
      ]
     },
     "execution_count": 348,
     "metadata": {},
     "output_type": "execute_result"
    }
   ],
   "source": [
    "tn.shape"
   ]
  },
  {
   "cell_type": "markdown",
   "id": "78aca0a2-872e-45e5-bcb9-629984acd664",
   "metadata": {},
   "source": [
    "From the above observation, unit price column can have some items very costly so they sholud not be removed similarly there ccan be some whole sale buyers who have purchased a lot . But outlier from the total price should be remove so that we take into account of behaviour of regular buyer not hungry buyers."
   ]
  },
  {
   "cell_type": "code",
   "execution_count": 350,
   "id": "6919db5c-3c3e-486b-8339-be0240dadc70",
   "metadata": {},
   "outputs": [],
   "source": [
    "from scipy import stats\n",
    "\n",
    "# removing outliers from total Price the empirical rule: ~99.7% of normally distributed data falls within 3 standard deviations.\n",
    "tn = tn[(np.abs(stats.zscore(tn[[\"Total Price\"]])) < 3).all(axis=1)]\n",
    "\n",
    "# IQR Method\n",
    "q1 = tn['Total Price'].quantile(0.25)\n",
    "q3 = tn['Total Price'].quantile(0.75)\n",
    "IQR = q3-q1\n",
    "\n",
    "#tn = tn[(tn[\"Total Price\"] >= q1 - 1.5*IQR) & (tn[\"Total Price\"] <= q3 + 1.5 * IQR)]"
   ]
  },
  {
   "cell_type": "code",
   "execution_count": 351,
   "id": "86f230d6-7095-450a-bae2-c5ac225d312f",
   "metadata": {},
   "outputs": [
    {
     "data": {
      "text/plain": [
       "(296822, 8)"
      ]
     },
     "execution_count": 351,
     "metadata": {},
     "output_type": "execute_result"
    }
   ],
   "source": [
    "tn.shape"
   ]
  },
  {
   "cell_type": "code",
   "execution_count": 352,
   "id": "68def22d-04d7-4935-bf49-f9ad53dbb51b",
   "metadata": {},
   "outputs": [
    {
     "data": {
      "text/plain": [
       "array(['Female', 'Male'], dtype=object)"
      ]
     },
     "execution_count": 352,
     "metadata": {},
     "output_type": "execute_result"
    }
   ],
   "source": [
    "# this need to be clean to contain either male or female\n",
    "cs['Gender'] = cs['Gender'].str.replace(r\".*(Male).*\",\"Male\",regex = True)\n",
    "cs['Gender'] = cs['Gender'].str.replace(r\".*(Female).*\",\"Female\",regex = True)\n",
    "cs['Gender'].unique()"
   ]
  },
  {
   "cell_type": "code",
   "execution_count": 353,
   "id": "0eb7bf9c-3958-4e37-8f1f-218c57e15194",
   "metadata": {},
   "outputs": [],
   "source": [
    "cs['Membership Type'].unique()\n",
    "cs['Membership Type']=cs['Membership Type'].str.replace(r\".*(Gold).*\",\"Gold\",regex=True)\n",
    "cs['Membership Type']=cs['Membership Type'].str.replace(r\".*(Silver).*\",\"Silver\",regex=True)\n",
    "cs['Membership Type']=cs['Membership Type'].str.replace(r\".*(Bronze).*\",\"Bronze\",regex=True)"
   ]
  },
  {
   "cell_type": "code",
   "execution_count": 354,
   "id": "a33a2212-3ae3-4066-8881-38595aebc97e",
   "metadata": {},
   "outputs": [
    {
     "data": {
      "text/html": [
       "<div>\n",
       "<style scoped>\n",
       "    .dataframe tbody tr th:only-of-type {\n",
       "        vertical-align: middle;\n",
       "    }\n",
       "\n",
       "    .dataframe tbody tr th {\n",
       "        vertical-align: top;\n",
       "    }\n",
       "\n",
       "    .dataframe thead th {\n",
       "        text-align: right;\n",
       "    }\n",
       "</style>\n",
       "<table border=\"1\" class=\"dataframe\">\n",
       "  <thead>\n",
       "    <tr style=\"text-align: right;\">\n",
       "      <th></th>\n",
       "      <th>Customer ID</th>\n",
       "      <th>Gender</th>\n",
       "      <th>Age</th>\n",
       "      <th>City</th>\n",
       "      <th>Membership Type</th>\n",
       "      <th>Total Spend</th>\n",
       "      <th>Items Purchased</th>\n",
       "      <th>Average Rating</th>\n",
       "      <th>Discount Applied</th>\n",
       "      <th>Satisfaction Level</th>\n",
       "    </tr>\n",
       "  </thead>\n",
       "  <tbody>\n",
       "    <tr>\n",
       "      <th>2963</th>\n",
       "      <td>15253.0</td>\n",
       "      <td>Female</td>\n",
       "      <td>49</td>\n",
       "      <td>Los Angeles</td>\n",
       "      <td>Silver</td>\n",
       "      <td>8230.62</td>\n",
       "      <td>460.0</td>\n",
       "      <td>1.98</td>\n",
       "      <td>True</td>\n",
       "      <td>Neutral</td>\n",
       "    </tr>\n",
       "    <tr>\n",
       "      <th>1440</th>\n",
       "      <td>13208.0</td>\n",
       "      <td>Female</td>\n",
       "      <td>18</td>\n",
       "      <td>Chicago</td>\n",
       "      <td>Silver</td>\n",
       "      <td>1195.99</td>\n",
       "      <td>127.0</td>\n",
       "      <td>3.07</td>\n",
       "      <td>True</td>\n",
       "      <td>Unsatisfied</td>\n",
       "    </tr>\n",
       "    <tr>\n",
       "      <th>2277</th>\n",
       "      <td>16325.0</td>\n",
       "      <td>Female</td>\n",
       "      <td>44</td>\n",
       "      <td>New York</td>\n",
       "      <td>Bronze</td>\n",
       "      <td>9065.20</td>\n",
       "      <td>337.0</td>\n",
       "      <td>3.39</td>\n",
       "      <td>True</td>\n",
       "      <td>Satisfied</td>\n",
       "    </tr>\n",
       "    <tr>\n",
       "      <th>3910</th>\n",
       "      <td>15677.0</td>\n",
       "      <td>Female</td>\n",
       "      <td>27</td>\n",
       "      <td>New York</td>\n",
       "      <td>Bronze</td>\n",
       "      <td>8365.17</td>\n",
       "      <td>336.0</td>\n",
       "      <td>4.31</td>\n",
       "      <td>False</td>\n",
       "      <td>Neutral</td>\n",
       "    </tr>\n",
       "    <tr>\n",
       "      <th>3223</th>\n",
       "      <td>14768.0</td>\n",
       "      <td>Male</td>\n",
       "      <td>30</td>\n",
       "      <td>Los Angeles</td>\n",
       "      <td>Silver</td>\n",
       "      <td>6442.33</td>\n",
       "      <td>121.0</td>\n",
       "      <td>1.90</td>\n",
       "      <td>True</td>\n",
       "      <td>Neutral</td>\n",
       "    </tr>\n",
       "    <tr>\n",
       "      <th>3458</th>\n",
       "      <td>17347.0</td>\n",
       "      <td>Male</td>\n",
       "      <td>48</td>\n",
       "      <td>Chicago</td>\n",
       "      <td>Silver</td>\n",
       "      <td>7152.39</td>\n",
       "      <td>51.0</td>\n",
       "      <td>1.87</td>\n",
       "      <td>True</td>\n",
       "      <td>Neutral</td>\n",
       "    </tr>\n",
       "  </tbody>\n",
       "</table>\n",
       "</div>"
      ],
      "text/plain": [
       "     Customer ID  Gender  Age         City Membership Type  Total Spend  \\\n",
       "2963     15253.0  Female   49  Los Angeles          Silver      8230.62   \n",
       "1440     13208.0  Female   18      Chicago          Silver      1195.99   \n",
       "2277     16325.0  Female   44     New York          Bronze      9065.20   \n",
       "3910     15677.0  Female   27     New York          Bronze      8365.17   \n",
       "3223     14768.0    Male   30  Los Angeles          Silver      6442.33   \n",
       "3458     17347.0    Male   48      Chicago          Silver      7152.39   \n",
       "\n",
       "      Items Purchased  Average Rating  Discount Applied Satisfaction Level  \n",
       "2963            460.0            1.98              True            Neutral  \n",
       "1440            127.0            3.07              True        Unsatisfied  \n",
       "2277            337.0            3.39              True          Satisfied  \n",
       "3910            336.0            4.31             False            Neutral  \n",
       "3223            121.0            1.90              True            Neutral  \n",
       "3458             51.0            1.87              True            Neutral  "
      ]
     },
     "execution_count": 354,
     "metadata": {},
     "output_type": "execute_result"
    }
   ],
   "source": [
    "cs.sample(6)"
   ]
  },
  {
   "cell_type": "markdown",
   "id": "08c65d9c-99dc-47e9-8092-d9184aee7344",
   "metadata": {},
   "source": [
    "# 3.EDA Exploratory Data Analysis"
   ]
  },
  {
   "cell_type": "markdown",
   "id": "70c038c2-919b-46f0-bad8-d81dbf9ea050",
   "metadata": {},
   "source": [
    "## 3.1 Demographic-Based Analysis "
   ]
  },
  {
   "cell_type": "markdown",
   "id": "303a1103-a544-4844-b3ef-0fd04b90b7fb",
   "metadata": {},
   "source": [
    "###  Gender Distribution: Understanding the proportion of male vs. female customers. "
   ]
  },
  {
   "cell_type": "code",
   "execution_count": 357,
   "id": "8912272b-5b8b-4836-9446-79955627ff3f",
   "metadata": {},
   "outputs": [
    {
     "data": {
      "text/html": [
       "<div>\n",
       "<style scoped>\n",
       "    .dataframe tbody tr th:only-of-type {\n",
       "        vertical-align: middle;\n",
       "    }\n",
       "\n",
       "    .dataframe tbody tr th {\n",
       "        vertical-align: top;\n",
       "    }\n",
       "\n",
       "    .dataframe thead th {\n",
       "        text-align: right;\n",
       "    }\n",
       "</style>\n",
       "<table border=\"1\" class=\"dataframe\">\n",
       "  <thead>\n",
       "    <tr style=\"text-align: right;\">\n",
       "      <th></th>\n",
       "      <th>Gender</th>\n",
       "      <th>count</th>\n",
       "    </tr>\n",
       "  </thead>\n",
       "  <tbody>\n",
       "    <tr>\n",
       "      <th>0</th>\n",
       "      <td>Female</td>\n",
       "      <td>2198</td>\n",
       "    </tr>\n",
       "    <tr>\n",
       "      <th>1</th>\n",
       "      <td>Male</td>\n",
       "      <td>1737</td>\n",
       "    </tr>\n",
       "  </tbody>\n",
       "</table>\n",
       "</div>"
      ],
      "text/plain": [
       "   Gender  count\n",
       "0  Female   2198\n",
       "1    Male   1737"
      ]
     },
     "execution_count": 357,
     "metadata": {},
     "output_type": "execute_result"
    }
   ],
   "source": [
    "gender = cs['Gender'].value_counts().reset_index()\n",
    "gender"
   ]
  },
  {
   "cell_type": "code",
   "execution_count": 358,
   "id": "8e98b82d-04dd-43f3-80cf-57f078ceb733",
   "metadata": {
    "scrolled": true
   },
   "outputs": [
    {
     "data": {
      "image/png": "[encoded data removed]",
      "text/plain": [
       "<Figure size 500x500 with 1 Axes>"
      ]
     },
     "metadata": {},
     "output_type": "display_data"
    }
   ],
   "source": [
    "plt.figure(figsize=(5,5))\n",
    "plt.pie(gender['count'],labels =gender['Gender'],colors = ['skyblue','pink'],autopct = '%1.2f%%')\n",
    "plt.legend()\n",
    "plt.title(\"Gender Distribution of Customers\")\n",
    "plt.show()"
   ]
  },
  {
   "cell_type": "markdown",
   "id": "fca2afdd-f6ae-4c24-8802-860d215fa6e9",
   "metadata": {},
   "source": [
    "There are slightly around (10%) more female customers than males."
   ]
  },
  {
   "cell_type": "markdown",
   "id": "df540175-c858-49f4-a0d4-28eb266cf8bb",
   "metadata": {},
   "source": [
    "### Gender and age"
   ]
  },
  {
   "cell_type": "code",
   "execution_count": 361,
   "id": "99a4adfd-e470-4919-9323-2a1f6eeba02f",
   "metadata": {},
   "outputs": [
    {
     "name": "stdout",
     "output_type": "stream",
     "text": [
      "[18, 19, 20, 21, 22, 23, 24, 25, 26, 27, 28, 29, 30, 31, 32, 33, 34, 35, 36, 37, 38, 39, 40, 41, 42, 43, 44, 45, 46, 47, 48, 49, 50, 51, 52, 53, 54, 55, 56, 57, 58, 59, 60, 61, 62, 63, 64, 65, 66, 67, 68, 69]\n"
     ]
    }
   ],
   "source": [
    "##\n",
    "g = sorted(gen_with_age['Age'].unique())\n",
    "print(g)"
   ]
  },
  {
   "cell_type": "code",
   "execution_count": 362,
   "id": "2f262d3c-f747-4fab-987f-6757a424b5d5",
   "metadata": {
    "scrolled": true
   },
   "outputs": [
    {
     "data": {
      "text/html": [
       "<div>\n",
       "<style scoped>\n",
       "    .dataframe tbody tr th:only-of-type {\n",
       "        vertical-align: middle;\n",
       "    }\n",
       "\n",
       "    .dataframe tbody tr th {\n",
       "        vertical-align: top;\n",
       "    }\n",
       "\n",
       "    .dataframe thead th {\n",
       "        text-align: right;\n",
       "    }\n",
       "</style>\n",
       "<table border=\"1\" class=\"dataframe\">\n",
       "  <thead>\n",
       "    <tr style=\"text-align: right;\">\n",
       "      <th></th>\n",
       "      <th>Gender</th>\n",
       "      <th>Age</th>\n",
       "      <th>count</th>\n",
       "      <th>Age_group</th>\n",
       "    </tr>\n",
       "  </thead>\n",
       "  <tbody>\n",
       "    <tr>\n",
       "      <th>0</th>\n",
       "      <td>Female</td>\n",
       "      <td>44</td>\n",
       "      <td>270</td>\n",
       "      <td>35-45</td>\n",
       "    </tr>\n",
       "    <tr>\n",
       "      <th>1</th>\n",
       "      <td>Female</td>\n",
       "      <td>62</td>\n",
       "      <td>55</td>\n",
       "      <td>55-65</td>\n",
       "    </tr>\n",
       "    <tr>\n",
       "      <th>2</th>\n",
       "      <td>Female</td>\n",
       "      <td>34</td>\n",
       "      <td>54</td>\n",
       "      <td>25-35</td>\n",
       "    </tr>\n",
       "    <tr>\n",
       "      <th>3</th>\n",
       "      <td>Female</td>\n",
       "      <td>47</td>\n",
       "      <td>49</td>\n",
       "      <td>45-55</td>\n",
       "    </tr>\n",
       "    <tr>\n",
       "      <th>4</th>\n",
       "      <td>Female</td>\n",
       "      <td>30</td>\n",
       "      <td>47</td>\n",
       "      <td>25-35</td>\n",
       "    </tr>\n",
       "    <tr>\n",
       "      <th>...</th>\n",
       "      <td>...</td>\n",
       "      <td>...</td>\n",
       "      <td>...</td>\n",
       "      <td>...</td>\n",
       "    </tr>\n",
       "    <tr>\n",
       "      <th>99</th>\n",
       "      <td>Male</td>\n",
       "      <td>48</td>\n",
       "      <td>23</td>\n",
       "      <td>45-55</td>\n",
       "    </tr>\n",
       "    <tr>\n",
       "      <th>100</th>\n",
       "      <td>Male</td>\n",
       "      <td>51</td>\n",
       "      <td>22</td>\n",
       "      <td>45-55</td>\n",
       "    </tr>\n",
       "    <tr>\n",
       "      <th>101</th>\n",
       "      <td>Male</td>\n",
       "      <td>67</td>\n",
       "      <td>22</td>\n",
       "      <td>65-75</td>\n",
       "    </tr>\n",
       "    <tr>\n",
       "      <th>102</th>\n",
       "      <td>Male</td>\n",
       "      <td>68</td>\n",
       "      <td>20</td>\n",
       "      <td>65-75</td>\n",
       "    </tr>\n",
       "    <tr>\n",
       "      <th>103</th>\n",
       "      <td>Male</td>\n",
       "      <td>47</td>\n",
       "      <td>20</td>\n",
       "      <td>45-55</td>\n",
       "    </tr>\n",
       "  </tbody>\n",
       "</table>\n",
       "<p>104 rows × 4 columns</p>\n",
       "</div>"
      ],
      "text/plain": [
       "     Gender  Age  count Age_group\n",
       "0    Female   44    270     35-45\n",
       "1    Female   62     55     55-65\n",
       "2    Female   34     54     25-35\n",
       "3    Female   47     49     45-55\n",
       "4    Female   30     47     25-35\n",
       "..      ...  ...    ...       ...\n",
       "99     Male   48     23     45-55\n",
       "100    Male   51     22     45-55\n",
       "101    Male   67     22     65-75\n",
       "102    Male   68     20     65-75\n",
       "103    Male   47     20     45-55\n",
       "\n",
       "[104 rows x 4 columns]"
      ]
     },
     "execution_count": 362,
     "metadata": {},
     "output_type": "execute_result"
    }
   ],
   "source": [
    "gen_with_age = cs.groupby('Gender')['Age'].value_counts().reset_index()\n",
    "gen_with_age\n",
    "\n",
    "# converting age to age group bins \n",
    "gen_with_age['Age'].max()\n",
    "bins = [18, 25, 35, 45, 55, 65, 75]\n",
    "labels = [\"18-25\", \"25-35\", \"35-45\", \"45-55\", \"55-65\",\"65-75\"] \n",
    "gen_with_age['Age_group'] = pd.cut(gen_with_age['Age'],bins = bins , labels = labels , right= False)\n",
    "gen_with_age"
   ]
  },
  {
   "cell_type": "code",
   "execution_count": 363,
   "id": "06b5254d-c535-41e6-b028-4968ab03e15a",
   "metadata": {},
   "outputs": [
    {
     "data": {
      "text/html": [
       "<div>\n",
       "<style scoped>\n",
       "    .dataframe tbody tr th:only-of-type {\n",
       "        vertical-align: middle;\n",
       "    }\n",
       "\n",
       "    .dataframe tbody tr th {\n",
       "        vertical-align: top;\n",
       "    }\n",
       "\n",
       "    .dataframe thead th {\n",
       "        text-align: right;\n",
       "    }\n",
       "</style>\n",
       "<table border=\"1\" class=\"dataframe\">\n",
       "  <thead>\n",
       "    <tr style=\"text-align: right;\">\n",
       "      <th></th>\n",
       "      <th>Gender</th>\n",
       "      <th>Age_group</th>\n",
       "      <th>Count</th>\n",
       "    </tr>\n",
       "  </thead>\n",
       "  <tbody>\n",
       "    <tr>\n",
       "      <th>0</th>\n",
       "      <td>Female</td>\n",
       "      <td>18-25</td>\n",
       "      <td>7</td>\n",
       "    </tr>\n",
       "    <tr>\n",
       "      <th>1</th>\n",
       "      <td>Female</td>\n",
       "      <td>25-35</td>\n",
       "      <td>10</td>\n",
       "    </tr>\n",
       "    <tr>\n",
       "      <th>2</th>\n",
       "      <td>Female</td>\n",
       "      <td>35-45</td>\n",
       "      <td>10</td>\n",
       "    </tr>\n",
       "    <tr>\n",
       "      <th>3</th>\n",
       "      <td>Female</td>\n",
       "      <td>45-55</td>\n",
       "      <td>10</td>\n",
       "    </tr>\n",
       "    <tr>\n",
       "      <th>4</th>\n",
       "      <td>Female</td>\n",
       "      <td>55-65</td>\n",
       "      <td>10</td>\n",
       "    </tr>\n",
       "    <tr>\n",
       "      <th>5</th>\n",
       "      <td>Female</td>\n",
       "      <td>65-75</td>\n",
       "      <td>5</td>\n",
       "    </tr>\n",
       "    <tr>\n",
       "      <th>6</th>\n",
       "      <td>Male</td>\n",
       "      <td>18-25</td>\n",
       "      <td>7</td>\n",
       "    </tr>\n",
       "    <tr>\n",
       "      <th>7</th>\n",
       "      <td>Male</td>\n",
       "      <td>25-35</td>\n",
       "      <td>10</td>\n",
       "    </tr>\n",
       "    <tr>\n",
       "      <th>8</th>\n",
       "      <td>Male</td>\n",
       "      <td>35-45</td>\n",
       "      <td>10</td>\n",
       "    </tr>\n",
       "    <tr>\n",
       "      <th>9</th>\n",
       "      <td>Male</td>\n",
       "      <td>45-55</td>\n",
       "      <td>10</td>\n",
       "    </tr>\n",
       "    <tr>\n",
       "      <th>10</th>\n",
       "      <td>Male</td>\n",
       "      <td>55-65</td>\n",
       "      <td>10</td>\n",
       "    </tr>\n",
       "    <tr>\n",
       "      <th>11</th>\n",
       "      <td>Male</td>\n",
       "      <td>65-75</td>\n",
       "      <td>5</td>\n",
       "    </tr>\n",
       "  </tbody>\n",
       "</table>\n",
       "</div>"
      ],
      "text/plain": [
       "    Gender Age_group  Count\n",
       "0   Female     18-25      7\n",
       "1   Female     25-35     10\n",
       "2   Female     35-45     10\n",
       "3   Female     45-55     10\n",
       "4   Female     55-65     10\n",
       "5   Female     65-75      5\n",
       "6     Male     18-25      7\n",
       "7     Male     25-35     10\n",
       "8     Male     35-45     10\n",
       "9     Male     45-55     10\n",
       "10    Male     55-65     10\n",
       "11    Male     65-75      5"
      ]
     },
     "execution_count": 363,
     "metadata": {},
     "output_type": "execute_result"
    }
   ],
   "source": [
    "gen_age = gen_with_age.groupby([\"Gender\", \"Age_group\"],observed = True).size().reset_index(name=\"Count\")\n",
    "gen_age"
   ]
  },
  {
   "cell_type": "code",
   "execution_count": 364,
   "id": "b4f946f5-d85f-4d4d-a998-b20f0135e777",
   "metadata": {
    "scrolled": true
   },
   "outputs": [
    {
     "name": "stderr",
     "output_type": "stream",
     "text": [
      "C:\\Users\\HP\\anaconda3\\Lib\\site-packages\\seaborn\\categorical.py:641: FutureWarning: The default of observed=False is deprecated and will be changed to True in a future version of pandas. Pass observed=False to retain current behavior or observed=True to adopt the future default and silence this warning.\n",
      "  grouped_vals = vals.groupby(grouper)\n",
      "C:\\Users\\HP\\anaconda3\\Lib\\site-packages\\seaborn\\categorical.py:641: FutureWarning: The default of observed=False is deprecated and will be changed to True in a future version of pandas. Pass observed=False to retain current behavior or observed=True to adopt the future default and silence this warning.\n",
      "  grouped_vals = vals.groupby(grouper)\n"
     ]
    },
    {
     "data": {
      "image/png": "[encoded data removed]",
      "text/plain": [
       "<Figure size 1200x500 with 1 Axes>"
      ]
     },
     "metadata": {},
     "output_type": "display_data"
    }
   ],
   "source": [
    "plt.figure(figsize = (12,5))\n",
    "sns.barplot(data= gen_age,x=\"Age_group\",y = \"Count\", hue = \"Gender\")\n",
    "plt.title(\"Customer Distribution by Age Group and Gender\")\n",
    "plt.show()"
   ]
  },
  {
   "cell_type": "markdown",
   "id": "0e3ed4a4-b629-431b-9c39-75e201b1d5cc",
   "metadata": {},
   "source": [
    "Most of the Customers are in the age group of 25-65 . Means College goers and senior citizens do not form the major customer Base."
   ]
  },
  {
   "cell_type": "markdown",
   "id": "84ef22f4-a7a1-4ba8-acba-a82f6c89c151",
   "metadata": {},
   "source": [
    "### Gender with City"
   ]
  },
  {
   "cell_type": "code",
   "execution_count": 366,
   "id": "5c0acec9-706d-481a-8a9d-5f386c108e44",
   "metadata": {
    "scrolled": true
   },
   "outputs": [
    {
     "data": {
      "text/html": [
       "<div>\n",
       "<style scoped>\n",
       "    .dataframe tbody tr th:only-of-type {\n",
       "        vertical-align: middle;\n",
       "    }\n",
       "\n",
       "    .dataframe tbody tr th {\n",
       "        vertical-align: top;\n",
       "    }\n",
       "\n",
       "    .dataframe thead th {\n",
       "        text-align: right;\n",
       "    }\n",
       "</style>\n",
       "<table border=\"1\" class=\"dataframe\">\n",
       "  <thead>\n",
       "    <tr style=\"text-align: right;\">\n",
       "      <th></th>\n",
       "      <th>Gender</th>\n",
       "      <th>City</th>\n",
       "      <th>count</th>\n",
       "    </tr>\n",
       "  </thead>\n",
       "  <tbody>\n",
       "    <tr>\n",
       "      <th>0</th>\n",
       "      <td>Female</td>\n",
       "      <td>Los Angeles</td>\n",
       "      <td>611</td>\n",
       "    </tr>\n",
       "    <tr>\n",
       "      <th>1</th>\n",
       "      <td>Female</td>\n",
       "      <td>Miami</td>\n",
       "      <td>392</td>\n",
       "    </tr>\n",
       "    <tr>\n",
       "      <th>2</th>\n",
       "      <td>Female</td>\n",
       "      <td>New York</td>\n",
       "      <td>389</td>\n",
       "    </tr>\n",
       "    <tr>\n",
       "      <th>3</th>\n",
       "      <td>Female</td>\n",
       "      <td>Chicago</td>\n",
       "      <td>365</td>\n",
       "    </tr>\n",
       "    <tr>\n",
       "      <th>4</th>\n",
       "      <td>Female</td>\n",
       "      <td>Houston</td>\n",
       "      <td>352</td>\n",
       "    </tr>\n",
       "    <tr>\n",
       "      <th>5</th>\n",
       "      <td>Female</td>\n",
       "      <td>Los Angeles-</td>\n",
       "      <td>9</td>\n",
       "    </tr>\n",
       "    <tr>\n",
       "      <th>6</th>\n",
       "      <td>Female</td>\n",
       "      <td>Miami_</td>\n",
       "      <td>8</td>\n",
       "    </tr>\n",
       "    <tr>\n",
       "      <th>7</th>\n",
       "      <td>Female</td>\n",
       "      <td>Chicago-</td>\n",
       "      <td>7</td>\n",
       "    </tr>\n",
       "    <tr>\n",
       "      <th>8</th>\n",
       "      <td>Female</td>\n",
       "      <td>Houston1</td>\n",
       "      <td>5</td>\n",
       "    </tr>\n",
       "    <tr>\n",
       "      <th>9</th>\n",
       "      <td>Female</td>\n",
       "      <td>Los Angeles1</td>\n",
       "      <td>5</td>\n",
       "    </tr>\n",
       "    <tr>\n",
       "      <th>10</th>\n",
       "      <td>Female</td>\n",
       "      <td>Houston-</td>\n",
       "      <td>5</td>\n",
       "    </tr>\n",
       "    <tr>\n",
       "      <th>11</th>\n",
       "      <td>Female</td>\n",
       "      <td>Miami1</td>\n",
       "      <td>5</td>\n",
       "    </tr>\n",
       "    <tr>\n",
       "      <th>12</th>\n",
       "      <td>Female</td>\n",
       "      <td>Chicago_</td>\n",
       "      <td>5</td>\n",
       "    </tr>\n",
       "    <tr>\n",
       "      <th>13</th>\n",
       "      <td>Female</td>\n",
       "      <td>Houston_</td>\n",
       "      <td>5</td>\n",
       "    </tr>\n",
       "    <tr>\n",
       "      <th>14</th>\n",
       "      <td>Female</td>\n",
       "      <td>Miami</td>\n",
       "      <td>5</td>\n",
       "    </tr>\n",
       "    <tr>\n",
       "      <th>15</th>\n",
       "      <td>Female</td>\n",
       "      <td>Houston</td>\n",
       "      <td>5</td>\n",
       "    </tr>\n",
       "    <tr>\n",
       "      <th>16</th>\n",
       "      <td>Female</td>\n",
       "      <td>New York_</td>\n",
       "      <td>4</td>\n",
       "    </tr>\n",
       "    <tr>\n",
       "      <th>17</th>\n",
       "      <td>Female</td>\n",
       "      <td>New York-</td>\n",
       "      <td>4</td>\n",
       "    </tr>\n",
       "    <tr>\n",
       "      <th>18</th>\n",
       "      <td>Female</td>\n",
       "      <td>Los Angeles</td>\n",
       "      <td>4</td>\n",
       "    </tr>\n",
       "    <tr>\n",
       "      <th>19</th>\n",
       "      <td>Female</td>\n",
       "      <td>Los Angeles_</td>\n",
       "      <td>3</td>\n",
       "    </tr>\n",
       "    <tr>\n",
       "      <th>20</th>\n",
       "      <td>Female</td>\n",
       "      <td>New York</td>\n",
       "      <td>2</td>\n",
       "    </tr>\n",
       "    <tr>\n",
       "      <th>21</th>\n",
       "      <td>Female</td>\n",
       "      <td>New York1</td>\n",
       "      <td>2</td>\n",
       "    </tr>\n",
       "    <tr>\n",
       "      <th>22</th>\n",
       "      <td>Female</td>\n",
       "      <td>Chicago</td>\n",
       "      <td>2</td>\n",
       "    </tr>\n",
       "    <tr>\n",
       "      <th>23</th>\n",
       "      <td>Female</td>\n",
       "      <td>Chicago1</td>\n",
       "      <td>2</td>\n",
       "    </tr>\n",
       "    <tr>\n",
       "      <th>24</th>\n",
       "      <td>Female</td>\n",
       "      <td>Miami-</td>\n",
       "      <td>2</td>\n",
       "    </tr>\n",
       "    <tr>\n",
       "      <th>25</th>\n",
       "      <td>Male</td>\n",
       "      <td>Los Angeles</td>\n",
       "      <td>488</td>\n",
       "    </tr>\n",
       "    <tr>\n",
       "      <th>26</th>\n",
       "      <td>Male</td>\n",
       "      <td>New York</td>\n",
       "      <td>298</td>\n",
       "    </tr>\n",
       "    <tr>\n",
       "      <th>27</th>\n",
       "      <td>Male</td>\n",
       "      <td>Houston</td>\n",
       "      <td>287</td>\n",
       "    </tr>\n",
       "    <tr>\n",
       "      <th>28</th>\n",
       "      <td>Male</td>\n",
       "      <td>Chicago</td>\n",
       "      <td>287</td>\n",
       "    </tr>\n",
       "    <tr>\n",
       "      <th>29</th>\n",
       "      <td>Male</td>\n",
       "      <td>Miami</td>\n",
       "      <td>276</td>\n",
       "    </tr>\n",
       "    <tr>\n",
       "      <th>30</th>\n",
       "      <td>Male</td>\n",
       "      <td>Chicago1</td>\n",
       "      <td>8</td>\n",
       "    </tr>\n",
       "    <tr>\n",
       "      <th>31</th>\n",
       "      <td>Male</td>\n",
       "      <td>Miami-</td>\n",
       "      <td>8</td>\n",
       "    </tr>\n",
       "    <tr>\n",
       "      <th>32</th>\n",
       "      <td>Male</td>\n",
       "      <td>Miami</td>\n",
       "      <td>8</td>\n",
       "    </tr>\n",
       "    <tr>\n",
       "      <th>33</th>\n",
       "      <td>Male</td>\n",
       "      <td>Houston_</td>\n",
       "      <td>8</td>\n",
       "    </tr>\n",
       "    <tr>\n",
       "      <th>34</th>\n",
       "      <td>Male</td>\n",
       "      <td>New York-</td>\n",
       "      <td>8</td>\n",
       "    </tr>\n",
       "    <tr>\n",
       "      <th>35</th>\n",
       "      <td>Male</td>\n",
       "      <td>Houston-</td>\n",
       "      <td>7</td>\n",
       "    </tr>\n",
       "    <tr>\n",
       "      <th>36</th>\n",
       "      <td>Male</td>\n",
       "      <td>New York</td>\n",
       "      <td>7</td>\n",
       "    </tr>\n",
       "    <tr>\n",
       "      <th>37</th>\n",
       "      <td>Male</td>\n",
       "      <td>Los Angeles1</td>\n",
       "      <td>7</td>\n",
       "    </tr>\n",
       "    <tr>\n",
       "      <th>38</th>\n",
       "      <td>Male</td>\n",
       "      <td>Miami_</td>\n",
       "      <td>6</td>\n",
       "    </tr>\n",
       "    <tr>\n",
       "      <th>39</th>\n",
       "      <td>Male</td>\n",
       "      <td>Miami1</td>\n",
       "      <td>5</td>\n",
       "    </tr>\n",
       "    <tr>\n",
       "      <th>40</th>\n",
       "      <td>Male</td>\n",
       "      <td>Los Angeles_</td>\n",
       "      <td>5</td>\n",
       "    </tr>\n",
       "    <tr>\n",
       "      <th>41</th>\n",
       "      <td>Male</td>\n",
       "      <td>Chicago-</td>\n",
       "      <td>5</td>\n",
       "    </tr>\n",
       "    <tr>\n",
       "      <th>42</th>\n",
       "      <td>Male</td>\n",
       "      <td>Houston1</td>\n",
       "      <td>3</td>\n",
       "    </tr>\n",
       "    <tr>\n",
       "      <th>43</th>\n",
       "      <td>Male</td>\n",
       "      <td>Chicago</td>\n",
       "      <td>3</td>\n",
       "    </tr>\n",
       "    <tr>\n",
       "      <th>44</th>\n",
       "      <td>Male</td>\n",
       "      <td>Los Angeles</td>\n",
       "      <td>3</td>\n",
       "    </tr>\n",
       "    <tr>\n",
       "      <th>45</th>\n",
       "      <td>Male</td>\n",
       "      <td>Los Angeles-</td>\n",
       "      <td>3</td>\n",
       "    </tr>\n",
       "    <tr>\n",
       "      <th>46</th>\n",
       "      <td>Male</td>\n",
       "      <td>Houston</td>\n",
       "      <td>3</td>\n",
       "    </tr>\n",
       "    <tr>\n",
       "      <th>47</th>\n",
       "      <td>Male</td>\n",
       "      <td>New York1</td>\n",
       "      <td>2</td>\n",
       "    </tr>\n",
       "    <tr>\n",
       "      <th>48</th>\n",
       "      <td>Male</td>\n",
       "      <td>Chicago_</td>\n",
       "      <td>1</td>\n",
       "    </tr>\n",
       "    <tr>\n",
       "      <th>49</th>\n",
       "      <td>Male</td>\n",
       "      <td>New York_</td>\n",
       "      <td>1</td>\n",
       "    </tr>\n",
       "  </tbody>\n",
       "</table>\n",
       "</div>"
      ],
      "text/plain": [
       "    Gender          City  count\n",
       "0   Female   Los Angeles    611\n",
       "1   Female         Miami    392\n",
       "2   Female      New York    389\n",
       "3   Female       Chicago    365\n",
       "4   Female       Houston    352\n",
       "5   Female  Los Angeles-      9\n",
       "6   Female        Miami_      8\n",
       "7   Female      Chicago-      7\n",
       "8   Female      Houston1      5\n",
       "9   Female  Los Angeles1      5\n",
       "10  Female      Houston-      5\n",
       "11  Female        Miami1      5\n",
       "12  Female      Chicago_      5\n",
       "13  Female      Houston_      5\n",
       "14  Female        Miami       5\n",
       "15  Female      Houston       5\n",
       "16  Female     New York_      4\n",
       "17  Female     New York-      4\n",
       "18  Female  Los Angeles       4\n",
       "19  Female  Los Angeles_      3\n",
       "20  Female     New York       2\n",
       "21  Female     New York1      2\n",
       "22  Female      Chicago       2\n",
       "23  Female      Chicago1      2\n",
       "24  Female        Miami-      2\n",
       "25    Male   Los Angeles    488\n",
       "26    Male      New York    298\n",
       "27    Male       Houston    287\n",
       "28    Male       Chicago    287\n",
       "29    Male         Miami    276\n",
       "30    Male      Chicago1      8\n",
       "31    Male        Miami-      8\n",
       "32    Male        Miami       8\n",
       "33    Male      Houston_      8\n",
       "34    Male     New York-      8\n",
       "35    Male      Houston-      7\n",
       "36    Male     New York       7\n",
       "37    Male  Los Angeles1      7\n",
       "38    Male        Miami_      6\n",
       "39    Male        Miami1      5\n",
       "40    Male  Los Angeles_      5\n",
       "41    Male      Chicago-      5\n",
       "42    Male      Houston1      3\n",
       "43    Male      Chicago       3\n",
       "44    Male  Los Angeles       3\n",
       "45    Male  Los Angeles-      3\n",
       "46    Male      Houston       3\n",
       "47    Male     New York1      2\n",
       "48    Male      Chicago_      1\n",
       "49    Male     New York_      1"
      ]
     },
     "execution_count": 366,
     "metadata": {},
     "output_type": "execute_result"
    }
   ],
   "source": [
    "gen_with_city = cs.groupby('Gender')['City'].value_counts().reset_index()\n",
    "gen_with_city"
   ]
  },
  {
   "cell_type": "code",
   "execution_count": 367,
   "id": "3ccc547b-a104-4abc-ab77-1a7bcf8082f6",
   "metadata": {
    "scrolled": true
   },
   "outputs": [
    {
     "data": {
      "image/png": "[encoded data removed]",
      "text/plain": [
       "<Figure size 1200x500 with 1 Axes>"
      ]
     },
     "metadata": {},
     "output_type": "display_data"
    }
   ],
   "source": [
    "plt.figure(figsize = (12,5))\n",
    "sns.barplot(data= gen_with_city,x=\"City\",y = \"count\", hue = \"Gender\")\n",
    "plt.title(\"Customer Distribution by City and Gender\")\n",
    "plt.xticks(rotation=90)\n",
    "plt.show()"
   ]
  },
  {
   "cell_type": "markdown",
   "id": "70d0463f-9d49-408f-8b03-384547f4f0d2",
   "metadata": {},
   "source": [
    "### Gender & Membership Type: Examining how membership type preferences vary by gender.\n"
   ]
  },
  {
   "cell_type": "code",
   "execution_count": 203,
   "id": "a0a8d0a1-6a0f-4bbf-9148-e049a47d02ba",
   "metadata": {
    "scrolled": true
   },
   "outputs": [
    {
     "data": {
      "image/png": "[encoded data removed]",
      "text/plain": [
       "<Figure size 640x480 with 1 Axes>"
      ]
     },
     "metadata": {},
     "output_type": "display_data"
    }
   ],
   "source": [
    "sns.barplot(data=MembershipType,x='Membership Type', y='count')\n",
    "plt.xticks(rotation = 90)\n",
    "plt.title(\"Customer count by Membership\")\n",
    "plt.show()"
   ]
  },
  {
   "cell_type": "code",
   "execution_count": 426,
   "id": "4209290b-7202-48d1-88df-f27cc90d698e",
   "metadata": {},
   "outputs": [
    {
     "data": {
      "text/html": [
       "<div>\n",
       "<style scoped>\n",
       "    .dataframe tbody tr th:only-of-type {\n",
       "        vertical-align: middle;\n",
       "    }\n",
       "\n",
       "    .dataframe tbody tr th {\n",
       "        vertical-align: top;\n",
       "    }\n",
       "\n",
       "    .dataframe thead th {\n",
       "        text-align: right;\n",
       "    }\n",
       "</style>\n",
       "<table border=\"1\" class=\"dataframe\">\n",
       "  <thead>\n",
       "    <tr style=\"text-align: right;\">\n",
       "      <th></th>\n",
       "      <th>Gender</th>\n",
       "      <th>Membership Type</th>\n",
       "      <th>count</th>\n",
       "    </tr>\n",
       "  </thead>\n",
       "  <tbody>\n",
       "    <tr>\n",
       "      <th>0</th>\n",
       "      <td>Female</td>\n",
       "      <td>Gold</td>\n",
       "      <td>883</td>\n",
       "    </tr>\n",
       "    <tr>\n",
       "      <th>1</th>\n",
       "      <td>Female</td>\n",
       "      <td>Bronze</td>\n",
       "      <td>666</td>\n",
       "    </tr>\n",
       "    <tr>\n",
       "      <th>2</th>\n",
       "      <td>Female</td>\n",
       "      <td>Silver</td>\n",
       "      <td>649</td>\n",
       "    </tr>\n",
       "    <tr>\n",
       "      <th>3</th>\n",
       "      <td>Male</td>\n",
       "      <td>Gold</td>\n",
       "      <td>699</td>\n",
       "    </tr>\n",
       "    <tr>\n",
       "      <th>4</th>\n",
       "      <td>Male</td>\n",
       "      <td>Silver</td>\n",
       "      <td>543</td>\n",
       "    </tr>\n",
       "    <tr>\n",
       "      <th>5</th>\n",
       "      <td>Male</td>\n",
       "      <td>Bronze</td>\n",
       "      <td>495</td>\n",
       "    </tr>\n",
       "  </tbody>\n",
       "</table>\n",
       "</div>"
      ],
      "text/plain": [
       "   Gender Membership Type  count\n",
       "0  Female            Gold    883\n",
       "1  Female          Bronze    666\n",
       "2  Female          Silver    649\n",
       "3    Male            Gold    699\n",
       "4    Male          Silver    543\n",
       "5    Male          Bronze    495"
      ]
     },
     "execution_count": 426,
     "metadata": {},
     "output_type": "execute_result"
    }
   ],
   "source": [
    "gen_with_membership = cs.groupby('Gender')['Membership Type'].value_counts().reset_index()\n",
    "gen_with_membership"
   ]
  },
  {
   "cell_type": "code",
   "execution_count": 432,
   "id": "fd5fc161-72bd-4d57-93a3-74211a8f0b24",
   "metadata": {
    "scrolled": true
   },
   "outputs": [
    {
     "data": {
      "image/png": "[encoded data removed]",
      "text/plain": [
       "<Figure size 1200x500 with 1 Axes>"
      ]
     },
     "metadata": {},
     "output_type": "display_data"
    }
   ],
   "source": [
    "plt.figure(figsize=(12,5))\n",
    "sns.barplot(data = gen_with_membership,x =\"Membership Type\",y = \"count\",hue=\"Gender\")\n",
    "plt.title(\"Customer by Membership and gender\")\n",
    "plt.show()"
   ]
  },
  {
   "cell_type": "markdown",
   "id": "b51feaef-0288-4a43-9a7d-f96d3f68cf46",
   "metadata": {},
   "source": [
    "# EDA SET-2"
   ]
  },
  {
   "cell_type": "markdown",
   "id": "be7a7990-f47f-4a53-a653-8b7f1744b8b8",
   "metadata": {},
   "source": [
    "### What is the general sales trend?"
   ]
  },
  {
   "cell_type": "code",
   "execution_count": null,
   "id": "77560fee-d114-44fe-8974-437c5fd4be49",
   "metadata": {},
   "outputs": [],
   "source": [
    "# amount of money generated by the sales for each day through the studied period.\n"
   ]
  },
  {
   "cell_type": "code",
   "execution_count": null,
   "id": "9fbacb31-c704-4f98-bd78-8c8d6c40c5f8",
   "metadata": {},
   "outputs": [],
   "source": []
  },
  {
   "cell_type": "code",
   "execution_count": null,
   "id": "6d40cf77-1931-4429-bc9d-703ac5a4180e",
   "metadata": {},
   "outputs": [],
   "source": []
  },
  {
   "cell_type": "code",
   "execution_count": null,
   "id": "d35099a3-012f-4b82-a3fe-19ab537ce747",
   "metadata": {},
   "outputs": [],
   "source": []
  }
 ],
 "metadata": {
  "kernelspec": {
   "display_name": "Python 3 (ipykernel)",
   "language": "python",
   "name": "python3"
  },
  "language_info": {
   "codemirror_mode": {
    "name": "ipython",
    "version": 3
   },
   "file_extension": ".py",
   "mimetype": "text/x-python",
   "name": "python",
   "nbconvert_exporter": "python",
   "pygments_lexer": "ipython3",
   "version": "3.11.7"
  }
 },
 "nbformat": 4,
 "nbformat_minor": 5
}
