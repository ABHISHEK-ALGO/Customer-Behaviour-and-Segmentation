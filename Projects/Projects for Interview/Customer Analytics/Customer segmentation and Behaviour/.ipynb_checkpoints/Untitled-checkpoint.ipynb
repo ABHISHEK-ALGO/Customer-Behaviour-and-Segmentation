{
 "cells": [
  {
   "cell_type": "code",
   "execution_count": 74,
   "id": "0d30a9c9-5e55-42e5-b545-abefcd04c585",
   "metadata": {},
   "outputs": [],
   "source": [
    "import pandas as pd\n",
    "import numpy as np\n",
    "import matplotlib.pyplot as plt\n",
    "import seaborn as sns"
   ]
  },
  {
   "cell_type": "markdown",
   "id": "63bcdc1e-8c44-4d0e-bd4e-a7acf455eae2",
   "metadata": {},
   "source": [
    "# 1.Reading both the datasets"
   ]
  },
  {
   "cell_type": "code",
   "execution_count": 76,
   "id": "4c7e0d72-07ff-484e-93fc-dd3179e4e42b",
   "metadata": {},
   "outputs": [],
   "source": [
    "cs = pd.read_csv(\"unclean_customers.csv\")\n",
    "tn = pd.read_csv(\"unclean_transactions.csv\")"
   ]
  },
  {
   "cell_type": "code",
   "execution_count": 77,
   "id": "ce284f58-2396-4157-8dd8-e247dd323ae8",
   "metadata": {
    "scrolled": true
   },
   "outputs": [
    {
     "data": {
      "text/html": [
       "<div>\n",
       "<style scoped>\n",
       "    .dataframe tbody tr th:only-of-type {\n",
       "        vertical-align: middle;\n",
       "    }\n",
       "\n",
       "    .dataframe tbody tr th {\n",
       "        vertical-align: top;\n",
       "    }\n",
       "\n",
       "    .dataframe thead th {\n",
       "        text-align: right;\n",
       "    }\n",
       "</style>\n",
       "<table border=\"1\" class=\"dataframe\">\n",
       "  <thead>\n",
       "    <tr style=\"text-align: right;\">\n",
       "      <th></th>\n",
       "      <th>Customer ID</th>\n",
       "      <th>Gender</th>\n",
       "      <th>Age</th>\n",
       "      <th>City</th>\n",
       "      <th>Membership Type</th>\n",
       "      <th>Total Spend</th>\n",
       "      <th>Items Purchased</th>\n",
       "      <th>Average Rating</th>\n",
       "      <th>Discount Applied</th>\n",
       "      <th>Satisfaction Level</th>\n",
       "    </tr>\n",
       "  </thead>\n",
       "  <tbody>\n",
       "    <tr>\n",
       "      <th>0</th>\n",
       "      <td>17850.0</td>\n",
       "      <td>NaN</td>\n",
       "      <td>29.0</td>\n",
       "      <td>Los Angeles</td>\n",
       "      <td>Gold</td>\n",
       "      <td>8044.27</td>\n",
       "      <td>443.0</td>\n",
       "      <td>3.07</td>\n",
       "      <td>False</td>\n",
       "      <td>Neutral</td>\n",
       "    </tr>\n",
       "    <tr>\n",
       "      <th>1</th>\n",
       "      <td>13047.0</td>\n",
       "      <td>Female</td>\n",
       "      <td>NaN</td>\n",
       "      <td>Houston</td>\n",
       "      <td>Silver</td>\n",
       "      <td>7393.19</td>\n",
       "      <td>415.0</td>\n",
       "      <td>3.29</td>\n",
       "      <td>False</td>\n",
       "      <td>Neutral</td>\n",
       "    </tr>\n",
       "    <tr>\n",
       "      <th>2</th>\n",
       "      <td>12583.0</td>\n",
       "      <td>Male</td>\n",
       "      <td>56.0</td>\n",
       "      <td>NaN</td>\n",
       "      <td>NaN</td>\n",
       "      <td>3043.45</td>\n",
       "      <td>395.0</td>\n",
       "      <td>1.52</td>\n",
       "      <td>False</td>\n",
       "      <td>NaN</td>\n",
       "    </tr>\n",
       "    <tr>\n",
       "      <th>3</th>\n",
       "      <td>13748.0</td>\n",
       "      <td>NaN</td>\n",
       "      <td>26.0</td>\n",
       "      <td>Miami</td>\n",
       "      <td>Silver</td>\n",
       "      <td>679.77</td>\n",
       "      <td>134.0</td>\n",
       "      <td>4.36</td>\n",
       "      <td>False</td>\n",
       "      <td>Satisfied</td>\n",
       "    </tr>\n",
       "    <tr>\n",
       "      <th>4</th>\n",
       "      <td>15100.0</td>\n",
       "      <td>Male</td>\n",
       "      <td>52.0</td>\n",
       "      <td>Los Angeles</td>\n",
       "      <td>Bronze</td>\n",
       "      <td>1511.31</td>\n",
       "      <td>NaN</td>\n",
       "      <td>4.15</td>\n",
       "      <td>NaN</td>\n",
       "      <td>Neutral</td>\n",
       "    </tr>\n",
       "  </tbody>\n",
       "</table>\n",
       "</div>"
      ],
      "text/plain": [
       "   Customer ID  Gender   Age         City Membership Type  Total Spend  \\\n",
       "0      17850.0     NaN  29.0  Los Angeles            Gold      8044.27   \n",
       "1      13047.0  Female   NaN      Houston          Silver      7393.19   \n",
       "2      12583.0    Male  56.0          NaN             NaN      3043.45   \n",
       "3      13748.0     NaN  26.0        Miami          Silver       679.77   \n",
       "4      15100.0    Male  52.0  Los Angeles          Bronze      1511.31   \n",
       "\n",
       "   Items Purchased  Average Rating Discount Applied Satisfaction Level  \n",
       "0            443.0            3.07            False            Neutral  \n",
       "1            415.0            3.29            False            Neutral  \n",
       "2            395.0            1.52            False                NaN  \n",
       "3            134.0            4.36            False          Satisfied  \n",
       "4              NaN            4.15              NaN            Neutral  "
      ]
     },
     "execution_count": 77,
     "metadata": {},
     "output_type": "execute_result"
    }
   ],
   "source": [
    "cs.head()"
   ]
  },
  {
   "cell_type": "code",
   "execution_count": 78,
   "id": "e4a5c731-59e6-4fc1-b76f-c790d89e0ffe",
   "metadata": {},
   "outputs": [
    {
     "data": {
      "text/plain": [
       "(4372, 10)"
      ]
     },
     "execution_count": 78,
     "metadata": {},
     "output_type": "execute_result"
    }
   ],
   "source": [
    "cs.shape"
   ]
  },
  {
   "cell_type": "code",
   "execution_count": 79,
   "id": "3a0e962e-80f4-4411-b21a-ac5b434201b9",
   "metadata": {
    "scrolled": true
   },
   "outputs": [
    {
     "data": {
      "text/html": [
       "<div>\n",
       "<style scoped>\n",
       "    .dataframe tbody tr th:only-of-type {\n",
       "        vertical-align: middle;\n",
       "    }\n",
       "\n",
       "    .dataframe tbody tr th {\n",
       "        vertical-align: top;\n",
       "    }\n",
       "\n",
       "    .dataframe thead th {\n",
       "        text-align: right;\n",
       "    }\n",
       "</style>\n",
       "<table border=\"1\" class=\"dataframe\">\n",
       "  <thead>\n",
       "    <tr style=\"text-align: right;\">\n",
       "      <th></th>\n",
       "      <th>InvoiceNo</th>\n",
       "      <th>StockCode</th>\n",
       "      <th>Description</th>\n",
       "      <th>Quantity</th>\n",
       "      <th>InvoiceDate</th>\n",
       "      <th>UnitPrice</th>\n",
       "      <th>CustomerID</th>\n",
       "      <th>Country</th>\n",
       "    </tr>\n",
       "  </thead>\n",
       "  <tbody>\n",
       "    <tr>\n",
       "      <th>0</th>\n",
       "      <td>536365</td>\n",
       "      <td>85123A</td>\n",
       "      <td>WHITE HANGING HEART T-LIGHT HOLDER</td>\n",
       "      <td>6.0</td>\n",
       "      <td>12/1/2010 8:26</td>\n",
       "      <td>2.55</td>\n",
       "      <td>17850.0</td>\n",
       "      <td>United Kingdom</td>\n",
       "    </tr>\n",
       "    <tr>\n",
       "      <th>1</th>\n",
       "      <td>536365</td>\n",
       "      <td>71053</td>\n",
       "      <td>WHITE METAL LANTERN</td>\n",
       "      <td>6.0</td>\n",
       "      <td>12/1/2010 8:26</td>\n",
       "      <td>3.39</td>\n",
       "      <td>17850.0</td>\n",
       "      <td>NaN</td>\n",
       "    </tr>\n",
       "    <tr>\n",
       "      <th>2</th>\n",
       "      <td>NaN</td>\n",
       "      <td>NaN</td>\n",
       "      <td>CREAM CUPID HEARTS COAT HANGER</td>\n",
       "      <td>NaN</td>\n",
       "      <td>12/1/2010 8:26</td>\n",
       "      <td>2.75</td>\n",
       "      <td>17850.0</td>\n",
       "      <td>United Kingdom</td>\n",
       "    </tr>\n",
       "    <tr>\n",
       "      <th>3</th>\n",
       "      <td>536365</td>\n",
       "      <td>84029G</td>\n",
       "      <td>KNITTED UNION FLAG HOT WATER BOTTLE</td>\n",
       "      <td>6.0</td>\n",
       "      <td>12/1/2010 8:26</td>\n",
       "      <td>3.39</td>\n",
       "      <td>17850.0</td>\n",
       "      <td>United Kingdom</td>\n",
       "    </tr>\n",
       "    <tr>\n",
       "      <th>4</th>\n",
       "      <td>536365</td>\n",
       "      <td>84029E</td>\n",
       "      <td>RED WOOLLY HOTTIE WHITE HEART.</td>\n",
       "      <td>6.0</td>\n",
       "      <td>12/1/2010 8:26</td>\n",
       "      <td>3.39</td>\n",
       "      <td>17850.0</td>\n",
       "      <td>United Kingdom</td>\n",
       "    </tr>\n",
       "  </tbody>\n",
       "</table>\n",
       "</div>"
      ],
      "text/plain": [
       "  InvoiceNo StockCode                          Description  Quantity  \\\n",
       "0    536365    85123A   WHITE HANGING HEART T-LIGHT HOLDER       6.0   \n",
       "1    536365     71053                  WHITE METAL LANTERN       6.0   \n",
       "2       NaN       NaN       CREAM CUPID HEARTS COAT HANGER       NaN   \n",
       "3    536365    84029G  KNITTED UNION FLAG HOT WATER BOTTLE       6.0   \n",
       "4    536365    84029E       RED WOOLLY HOTTIE WHITE HEART.       6.0   \n",
       "\n",
       "      InvoiceDate  UnitPrice  CustomerID         Country  \n",
       "0  12/1/2010 8:26       2.55     17850.0  United Kingdom  \n",
       "1  12/1/2010 8:26       3.39     17850.0             NaN  \n",
       "2  12/1/2010 8:26       2.75     17850.0  United Kingdom  \n",
       "3  12/1/2010 8:26       3.39     17850.0  United Kingdom  \n",
       "4  12/1/2010 8:26       3.39     17850.0  United Kingdom  "
      ]
     },
     "execution_count": 79,
     "metadata": {},
     "output_type": "execute_result"
    }
   ],
   "source": [
    "tn.head()"
   ]
  },
  {
   "cell_type": "code",
   "execution_count": 80,
   "id": "8d233b57-bc9d-4e98-9163-6c7920fca5e2",
   "metadata": {},
   "outputs": [
    {
     "data": {
      "text/plain": [
       "(541909, 8)"
      ]
     },
     "execution_count": 80,
     "metadata": {},
     "output_type": "execute_result"
    }
   ],
   "source": [
    "tn.shape"
   ]
  },
  {
   "cell_type": "markdown",
   "id": "87458221-a7af-4cd1-ace3-95f69d48c3c0",
   "metadata": {},
   "source": [
    "# 2.Exploring and Cleaning "
   ]
  },
  {
   "cell_type": "markdown",
   "id": "e6ae40ae-a59f-4174-98cf-1f3fc8a40f0d",
   "metadata": {},
   "source": [
    "## Customer Dataset"
   ]
  },
  {
   "cell_type": "code",
   "execution_count": 82,
   "id": "f48f89ff-2e1c-4925-a387-f1a738ee627b",
   "metadata": {},
   "outputs": [
    {
     "data": {
      "text/html": [
       "<div>\n",
       "<style scoped>\n",
       "    .dataframe tbody tr th:only-of-type {\n",
       "        vertical-align: middle;\n",
       "    }\n",
       "\n",
       "    .dataframe tbody tr th {\n",
       "        vertical-align: top;\n",
       "    }\n",
       "\n",
       "    .dataframe thead th {\n",
       "        text-align: right;\n",
       "    }\n",
       "</style>\n",
       "<table border=\"1\" class=\"dataframe\">\n",
       "  <thead>\n",
       "    <tr style=\"text-align: right;\">\n",
       "      <th></th>\n",
       "      <th>Customer ID</th>\n",
       "      <th>Gender</th>\n",
       "      <th>Age</th>\n",
       "      <th>City</th>\n",
       "      <th>Membership Type</th>\n",
       "      <th>Total Spend</th>\n",
       "      <th>Items Purchased</th>\n",
       "      <th>Average Rating</th>\n",
       "      <th>Discount Applied</th>\n",
       "      <th>Satisfaction Level</th>\n",
       "    </tr>\n",
       "  </thead>\n",
       "  <tbody>\n",
       "    <tr>\n",
       "      <th>0</th>\n",
       "      <td>17850.0</td>\n",
       "      <td>NaN</td>\n",
       "      <td>29.0</td>\n",
       "      <td>Los Angeles</td>\n",
       "      <td>Gold</td>\n",
       "      <td>8044.27</td>\n",
       "      <td>443.0</td>\n",
       "      <td>3.07</td>\n",
       "      <td>False</td>\n",
       "      <td>Neutral</td>\n",
       "    </tr>\n",
       "    <tr>\n",
       "      <th>1</th>\n",
       "      <td>13047.0</td>\n",
       "      <td>Female</td>\n",
       "      <td>NaN</td>\n",
       "      <td>Houston</td>\n",
       "      <td>Silver</td>\n",
       "      <td>7393.19</td>\n",
       "      <td>415.0</td>\n",
       "      <td>3.29</td>\n",
       "      <td>False</td>\n",
       "      <td>Neutral</td>\n",
       "    </tr>\n",
       "    <tr>\n",
       "      <th>2</th>\n",
       "      <td>12583.0</td>\n",
       "      <td>Male</td>\n",
       "      <td>56.0</td>\n",
       "      <td>NaN</td>\n",
       "      <td>NaN</td>\n",
       "      <td>3043.45</td>\n",
       "      <td>395.0</td>\n",
       "      <td>1.52</td>\n",
       "      <td>False</td>\n",
       "      <td>NaN</td>\n",
       "    </tr>\n",
       "    <tr>\n",
       "      <th>3</th>\n",
       "      <td>13748.0</td>\n",
       "      <td>NaN</td>\n",
       "      <td>26.0</td>\n",
       "      <td>Miami</td>\n",
       "      <td>Silver</td>\n",
       "      <td>679.77</td>\n",
       "      <td>134.0</td>\n",
       "      <td>4.36</td>\n",
       "      <td>False</td>\n",
       "      <td>Satisfied</td>\n",
       "    </tr>\n",
       "    <tr>\n",
       "      <th>4</th>\n",
       "      <td>15100.0</td>\n",
       "      <td>Male</td>\n",
       "      <td>52.0</td>\n",
       "      <td>Los Angeles</td>\n",
       "      <td>Bronze</td>\n",
       "      <td>1511.31</td>\n",
       "      <td>NaN</td>\n",
       "      <td>4.15</td>\n",
       "      <td>NaN</td>\n",
       "      <td>Neutral</td>\n",
       "    </tr>\n",
       "  </tbody>\n",
       "</table>\n",
       "</div>"
      ],
      "text/plain": [
       "   Customer ID  Gender   Age         City Membership Type  Total Spend  \\\n",
       "0      17850.0     NaN  29.0  Los Angeles            Gold      8044.27   \n",
       "1      13047.0  Female   NaN      Houston          Silver      7393.19   \n",
       "2      12583.0    Male  56.0          NaN             NaN      3043.45   \n",
       "3      13748.0     NaN  26.0        Miami          Silver       679.77   \n",
       "4      15100.0    Male  52.0  Los Angeles          Bronze      1511.31   \n",
       "\n",
       "   Items Purchased  Average Rating Discount Applied Satisfaction Level  \n",
       "0            443.0            3.07            False            Neutral  \n",
       "1            415.0            3.29            False            Neutral  \n",
       "2            395.0            1.52            False                NaN  \n",
       "3            134.0            4.36            False          Satisfied  \n",
       "4              NaN            4.15              NaN            Neutral  "
      ]
     },
     "execution_count": 82,
     "metadata": {},
     "output_type": "execute_result"
    }
   ],
   "source": [
    "cs.head()"
   ]
  },
  {
   "cell_type": "code",
   "execution_count": 83,
   "id": "e6a7c7a4-9453-49a7-a2c8-cf26d9a054f6",
   "metadata": {
    "scrolled": true
   },
   "outputs": [
    {
     "name": "stdout",
     "output_type": "stream",
     "text": [
      "<class 'pandas.core.frame.DataFrame'>\n",
      "RangeIndex: 4372 entries, 0 to 4371\n",
      "Data columns (total 10 columns):\n",
      " #   Column              Non-Null Count  Dtype  \n",
      "---  ------              --------------  -----  \n",
      " 0   Customer ID         3935 non-null   float64\n",
      " 1   Gender              3961 non-null   object \n",
      " 2   Age                 3935 non-null   float64\n",
      " 3   City                3964 non-null   object \n",
      " 4   Membership Type     3956 non-null   object \n",
      " 5   Total Spend         3935 non-null   float64\n",
      " 6   Items Purchased     3935 non-null   float64\n",
      " 7   Average Rating      3935 non-null   float64\n",
      " 8   Discount Applied    3935 non-null   object \n",
      " 9   Satisfaction Level  3961 non-null   object \n",
      "dtypes: float64(5), object(5)\n",
      "memory usage: 341.7+ KB\n"
     ]
    }
   ],
   "source": [
    "cs.info()"
   ]
  },
  {
   "cell_type": "markdown",
   "id": "deef760d-815d-43d6-8e5d-16af3f062b1d",
   "metadata": {},
   "source": [
    "Null values are there so lets check"
   ]
  },
  {
   "cell_type": "markdown",
   "id": "6811f024-741f-4c8a-98b7-795267c45bb8",
   "metadata": {},
   "source": [
    "### Treating Null"
   ]
  },
  {
   "cell_type": "code",
   "execution_count": 85,
   "id": "40332a1a-e6d8-4933-945b-87685e861fbd",
   "metadata": {
    "scrolled": true
   },
   "outputs": [
    {
     "data": {
      "text/plain": [
       "Customer ID           9.995425\n",
       "Gender                9.400732\n",
       "Age                   9.995425\n",
       "City                  9.332113\n",
       "Membership Type       9.515096\n",
       "Total Spend           9.995425\n",
       "Items Purchased       9.995425\n",
       "Average Rating        9.995425\n",
       "Discount Applied      9.995425\n",
       "Satisfaction Level    9.400732\n",
       "dtype: float64"
      ]
     },
     "execution_count": 85,
     "metadata": {},
     "output_type": "execute_result"
    }
   ],
   "source": [
    "(cs.isnull().sum()/len(cs))*100"
   ]
  },
  {
   "cell_type": "markdown",
   "id": "b360c334-ce35-4a3c-a76a-11f3420e29c3",
   "metadata": {},
   "source": [
    "Every column here is having null values of around 10% so it's not logical to drop the column instead we can try to impute it . If the null percentage of any column is greater than 30 % or so , we would have dropped that column. But we need to drop the null in the column Customer id."
   ]
  },
  {
   "cell_type": "code",
   "execution_count": 87,
   "id": "8ca0fa55-bee0-4693-a7c4-0cb18249bb2b",
   "metadata": {},
   "outputs": [
    {
     "data": {
      "text/plain": [
       "90.00457456541628"
      ]
     },
     "execution_count": 87,
     "metadata": {},
     "output_type": "execute_result"
    }
   ],
   "source": [
    "#percentage of data remaining after dropping nan in customer id\n",
    "(cs.dropna(subset=['Customer ID']).shape[0]/cs.shape[0])*100  "
   ]
  },
  {
   "cell_type": "code",
   "execution_count": 88,
   "id": "c3355f77-e3cc-4050-a77c-f3c44fe43dd6",
   "metadata": {},
   "outputs": [
    {
     "data": {
      "text/plain": [
       "(3935, 10)"
      ]
     },
     "execution_count": 88,
     "metadata": {},
     "output_type": "execute_result"
    }
   ],
   "source": [
    "cs = cs.dropna(subset=['Customer ID'])\n",
    "cs.shape"
   ]
  },
  {
   "cell_type": "code",
   "execution_count": 152,
   "id": "f9e7c934-b805-46a6-9f5a-7b8c040ad166",
   "metadata": {},
   "outputs": [],
   "source": [
    "# changing Customer ID datatype to interger\n",
    "cs['Customer ID'] = cs['Customer ID'].astype('object')"
   ]
  },
  {
   "cell_type": "code",
   "execution_count": 90,
   "id": "cbb9067f-27a0-4f0c-9a98-9ae434e3d28d",
   "metadata": {},
   "outputs": [
    {
     "data": {
      "text/plain": [
       "Index(['Customer ID', 'Gender', 'Age', 'City', 'Membership Type',\n",
       "       'Total Spend', 'Items Purchased', 'Average Rating', 'Discount Applied',\n",
       "       'Satisfaction Level'],\n",
       "      dtype='object')"
      ]
     },
     "execution_count": 90,
     "metadata": {},
     "output_type": "execute_result"
    }
   ],
   "source": [
    "cs.columns"
   ]
  },
  {
   "cell_type": "code",
   "execution_count": 106,
   "id": "3a5f7c29-03ff-4dda-a4f2-441c0b74f0d2",
   "metadata": {},
   "outputs": [],
   "source": [
    "# separating them into numeric and categorical\n",
    "categ_cols = ['Gender', 'Membership Type','Discount Applied','Satisfaction Level','City']\n",
    "for cols in categ_cols:\n",
    "    cs[cols] = cs[cols].fillna(cs[cols].mode()[0])\n",
    "\n",
    "numerical_cols = ['Age', 'Total Spend', 'Items Purchased', 'Average Rating']\n",
    "for col in numerical_cols:\n",
    "    cs[col] = cs[col].fillna(cs[col].median())"
   ]
  },
  {
   "cell_type": "code",
   "execution_count": 108,
   "id": "05c9f14b-33cd-4500-ad7d-bd57d14f378c",
   "metadata": {},
   "outputs": [],
   "source": [
    "# considerin every numeric separately\n",
    "cs['Age'] = cs['Age'].astype(int) # age can not be float"
   ]
  },
  {
   "cell_type": "code",
   "execution_count": 112,
   "id": "a1dcccc2-4a22-4f5d-963a-70f3bcdce8b7",
   "metadata": {},
   "outputs": [
    {
     "data": {
      "text/plain": [
       "Customer ID           0\n",
       "Gender                0\n",
       "Age                   0\n",
       "City                  0\n",
       "Membership Type       0\n",
       "Total Spend           0\n",
       "Items Purchased       0\n",
       "Average Rating        0\n",
       "Discount Applied      0\n",
       "Satisfaction Level    0\n",
       "dtype: int64"
      ]
     },
     "execution_count": 112,
     "metadata": {},
     "output_type": "execute_result"
    }
   ],
   "source": [
    "cs.isnull().sum()"
   ]
  },
  {
   "cell_type": "markdown",
   "id": "87d7f3f3-f111-4bf8-8731-9c01662ec7dc",
   "metadata": {},
   "source": [
    "### Treating Duplicates"
   ]
  },
  {
   "cell_type": "code",
   "execution_count": 122,
   "id": "85b8b712-f8b7-42ba-8c9c-a079da3dcbef",
   "metadata": {},
   "outputs": [
    {
     "data": {
      "text/plain": [
       "0"
      ]
     },
     "execution_count": 122,
     "metadata": {},
     "output_type": "execute_result"
    }
   ],
   "source": [
    "# check for customer duplicated\n",
    "cs.duplicated().sum()"
   ]
  },
  {
   "cell_type": "code",
   "execution_count": 120,
   "id": "c7839d3d-ee3c-4b30-a667-44b88a9854b7",
   "metadata": {},
   "outputs": [
    {
     "data": {
      "text/plain": [
       "0"
      ]
     },
     "execution_count": 120,
     "metadata": {},
     "output_type": "execute_result"
    }
   ],
   "source": [
    "cs.duplicated().sum(axis=0)"
   ]
  },
  {
   "cell_type": "markdown",
   "id": "78b075d7-728f-4310-98d3-d634976ae9ee",
   "metadata": {},
   "source": [
    "No duplicates are there ."
   ]
  },
  {
   "cell_type": "code",
   "execution_count": 128,
   "id": "a93b2bdc-3119-4a0c-9868-b43bb793762d",
   "metadata": {},
   "outputs": [
    {
     "data": {
      "text/plain": [
       "(3935, 10)"
      ]
     },
     "execution_count": 128,
     "metadata": {},
     "output_type": "execute_result"
    }
   ],
   "source": [
    "cs.sample(10)\n",
    "cs.shape"
   ]
  },
  {
   "cell_type": "markdown",
   "id": "9eae0380-9874-4ac4-851b-6f9b18998056",
   "metadata": {},
   "source": [
    "So the Customer dataset looks clean to proceed further."
   ]
  },
  {
   "cell_type": "markdown",
   "id": "44efba73-13b4-49ef-a56d-247023c7fcc8",
   "metadata": {},
   "source": [
    "## Transaction dataset"
   ]
  },
  {
   "cell_type": "code",
   "execution_count": 130,
   "id": "5536c94e-6520-4f64-aeb7-3bc28118d1c6",
   "metadata": {},
   "outputs": [
    {
     "data": {
      "text/html": [
       "<div>\n",
       "<style scoped>\n",
       "    .dataframe tbody tr th:only-of-type {\n",
       "        vertical-align: middle;\n",
       "    }\n",
       "\n",
       "    .dataframe tbody tr th {\n",
       "        vertical-align: top;\n",
       "    }\n",
       "\n",
       "    .dataframe thead th {\n",
       "        text-align: right;\n",
       "    }\n",
       "</style>\n",
       "<table border=\"1\" class=\"dataframe\">\n",
       "  <thead>\n",
       "    <tr style=\"text-align: right;\">\n",
       "      <th></th>\n",
       "      <th>InvoiceNo</th>\n",
       "      <th>StockCode</th>\n",
       "      <th>Description</th>\n",
       "      <th>Quantity</th>\n",
       "      <th>InvoiceDate</th>\n",
       "      <th>UnitPrice</th>\n",
       "      <th>CustomerID</th>\n",
       "      <th>Country</th>\n",
       "    </tr>\n",
       "  </thead>\n",
       "  <tbody>\n",
       "    <tr>\n",
       "      <th>0</th>\n",
       "      <td>536365</td>\n",
       "      <td>85123A</td>\n",
       "      <td>WHITE HANGING HEART T-LIGHT HOLDER</td>\n",
       "      <td>6.0</td>\n",
       "      <td>12/1/2010 8:26</td>\n",
       "      <td>2.55</td>\n",
       "      <td>17850.0</td>\n",
       "      <td>United Kingdom</td>\n",
       "    </tr>\n",
       "    <tr>\n",
       "      <th>1</th>\n",
       "      <td>536365</td>\n",
       "      <td>71053</td>\n",
       "      <td>WHITE METAL LANTERN</td>\n",
       "      <td>6.0</td>\n",
       "      <td>12/1/2010 8:26</td>\n",
       "      <td>3.39</td>\n",
       "      <td>17850.0</td>\n",
       "      <td>NaN</td>\n",
       "    </tr>\n",
       "    <tr>\n",
       "      <th>2</th>\n",
       "      <td>NaN</td>\n",
       "      <td>NaN</td>\n",
       "      <td>CREAM CUPID HEARTS COAT HANGER</td>\n",
       "      <td>NaN</td>\n",
       "      <td>12/1/2010 8:26</td>\n",
       "      <td>2.75</td>\n",
       "      <td>17850.0</td>\n",
       "      <td>United Kingdom</td>\n",
       "    </tr>\n",
       "    <tr>\n",
       "      <th>3</th>\n",
       "      <td>536365</td>\n",
       "      <td>84029G</td>\n",
       "      <td>KNITTED UNION FLAG HOT WATER BOTTLE</td>\n",
       "      <td>6.0</td>\n",
       "      <td>12/1/2010 8:26</td>\n",
       "      <td>3.39</td>\n",
       "      <td>17850.0</td>\n",
       "      <td>United Kingdom</td>\n",
       "    </tr>\n",
       "    <tr>\n",
       "      <th>4</th>\n",
       "      <td>536365</td>\n",
       "      <td>84029E</td>\n",
       "      <td>RED WOOLLY HOTTIE WHITE HEART.</td>\n",
       "      <td>6.0</td>\n",
       "      <td>12/1/2010 8:26</td>\n",
       "      <td>3.39</td>\n",
       "      <td>17850.0</td>\n",
       "      <td>United Kingdom</td>\n",
       "    </tr>\n",
       "  </tbody>\n",
       "</table>\n",
       "</div>"
      ],
      "text/plain": [
       "  InvoiceNo StockCode                          Description  Quantity  \\\n",
       "0    536365    85123A   WHITE HANGING HEART T-LIGHT HOLDER       6.0   \n",
       "1    536365     71053                  WHITE METAL LANTERN       6.0   \n",
       "2       NaN       NaN       CREAM CUPID HEARTS COAT HANGER       NaN   \n",
       "3    536365    84029G  KNITTED UNION FLAG HOT WATER BOTTLE       6.0   \n",
       "4    536365    84029E       RED WOOLLY HOTTIE WHITE HEART.       6.0   \n",
       "\n",
       "      InvoiceDate  UnitPrice  CustomerID         Country  \n",
       "0  12/1/2010 8:26       2.55     17850.0  United Kingdom  \n",
       "1  12/1/2010 8:26       3.39     17850.0             NaN  \n",
       "2  12/1/2010 8:26       2.75     17850.0  United Kingdom  \n",
       "3  12/1/2010 8:26       3.39     17850.0  United Kingdom  \n",
       "4  12/1/2010 8:26       3.39     17850.0  United Kingdom  "
      ]
     },
     "execution_count": 130,
     "metadata": {},
     "output_type": "execute_result"
    }
   ],
   "source": [
    "tn.head()"
   ]
  },
  {
   "cell_type": "code",
   "execution_count": 132,
   "id": "bf59a1a4-d571-4f2a-bb81-0e8b78583cec",
   "metadata": {},
   "outputs": [
    {
     "name": "stdout",
     "output_type": "stream",
     "text": [
      "<class 'pandas.core.frame.DataFrame'>\n",
      "RangeIndex: 541909 entries, 0 to 541908\n",
      "Data columns (total 8 columns):\n",
      " #   Column       Non-Null Count   Dtype  \n",
      "---  ------       --------------   -----  \n",
      " 0   InvoiceNo    487718 non-null  object \n",
      " 1   StockCode    487718 non-null  object \n",
      " 2   Description  486422 non-null  object \n",
      " 3   Quantity     487718 non-null  float64\n",
      " 4   InvoiceDate  487718 non-null  object \n",
      " 5   UnitPrice    487718 non-null  float64\n",
      " 6   CustomerID   366338 non-null  float64\n",
      " 7   Country      487718 non-null  object \n",
      "dtypes: float64(3), object(5)\n",
      "memory usage: 33.1+ MB\n"
     ]
    }
   ],
   "source": [
    "tn.info()"
   ]
  },
  {
   "cell_type": "markdown",
   "id": "a13e6656-af80-4272-bb4c-f49284ce917a",
   "metadata": {},
   "source": [
    "### Null Values treatment"
   ]
  },
  {
   "cell_type": "code",
   "execution_count": 134,
   "id": "069bf5ce-921b-4dcc-9474-d7fb18e7e319",
   "metadata": {},
   "outputs": [
    {
     "data": {
      "text/plain": [
       "InvoiceNo       54191\n",
       "StockCode       54191\n",
       "Description     55487\n",
       "Quantity        54191\n",
       "InvoiceDate     54191\n",
       "UnitPrice       54191\n",
       "CustomerID     175571\n",
       "Country         54191\n",
       "dtype: int64"
      ]
     },
     "execution_count": 134,
     "metadata": {},
     "output_type": "execute_result"
    }
   ],
   "source": [
    "tn.isnull().sum()"
   ]
  },
  {
   "cell_type": "code",
   "execution_count": 140,
   "id": "f195fd54-3cda-4dad-8e81-00674bd34189",
   "metadata": {},
   "outputs": [],
   "source": [
    "tn = tn.dropna(subset=['CustomerID'])\n",
    "tn['CustomerID'] = tn['CustomerID'].astype('object')"
   ]
  },
  {
   "cell_type": "code",
   "execution_count": 150,
   "id": "86c3f325-0494-4dad-a274-b3aef6932480",
   "metadata": {},
   "outputs": [
    {
     "data": {
      "text/plain": [
       "InvoiceNo       9.941912\n",
       "StockCode      10.042911\n",
       "Description     9.988863\n",
       "Quantity        9.975487\n",
       "InvoiceDate    10.003876\n",
       "UnitPrice      10.007698\n",
       "CustomerID      0.000000\n",
       "Country         9.995141\n",
       "dtype: float64"
      ]
     },
     "execution_count": 150,
     "metadata": {},
     "output_type": "execute_result"
    }
   ],
   "source": [
    "(tn.isnull().sum()/tn.shape[0])*100"
   ]
  },
  {
   "cell_type": "code",
   "execution_count": 164,
   "id": "7901dcbb-adef-44fe-adc7-e294928e6987",
   "metadata": {},
   "outputs": [],
   "source": [
    "tn = tn.drop(columns = ['Country'])"
   ]
  },
  {
   "cell_type": "code",
   "execution_count": 166,
   "id": "34f5af71-9b99-4828-ab47-8c273befcd80",
   "metadata": {},
   "outputs": [
    {
     "data": {
      "text/plain": [
       "Index(['InvoiceNo', 'StockCode', 'Description', 'Quantity', 'InvoiceDate',\n",
       "       'UnitPrice', 'CustomerID'],\n",
       "      dtype='object')"
      ]
     },
     "execution_count": 166,
     "metadata": {},
     "output_type": "execute_result"
    }
   ],
   "source": [
    "tn.columns"
   ]
  },
  {
   "cell_type": "code",
   "execution_count": 174,
   "id": "7e5ead40-d05c-4e9d-8908-8e616d276ef5",
   "metadata": {},
   "outputs": [],
   "source": [
    "# considering each col separatelhy\n",
    "tn = tn.dropna(subset=['InvoiceNo','InvoiceDate'])\n",
    "\n",
    "# categorical columns\n",
    "catg_cols = ['Description','StockCode']\n",
    "for col in ['Description', 'StockCode']:\n",
    "    tn[col] = tn[col].fillna(tn[col].mode()[0])\n",
    "\n",
    "# numerical columns\n",
    "num_col = ['Quantity','UnitPrice']\n",
    "for cols in num_col:\n",
    "    tn[cols] = tn[cols].fillna(tn[cols].mode()[0])"
   ]
  },
  {
   "cell_type": "code",
   "execution_count": 176,
   "id": "0c59e785-6d2f-41db-8100-ea419675e9e8",
   "metadata": {},
   "outputs": [
    {
     "data": {
      "text/plain": [
       "InvoiceNo      0\n",
       "StockCode      0\n",
       "Description    0\n",
       "Quantity       0\n",
       "InvoiceDate    0\n",
       "UnitPrice      0\n",
       "CustomerID     0\n",
       "dtype: int64"
      ]
     },
     "execution_count": 176,
     "metadata": {},
     "output_type": "execute_result"
    }
   ],
   "source": [
    "tn.isnull().sum()"
   ]
  },
  {
   "cell_type": "code",
   "execution_count": null,
   "id": "4f2460fa-56fb-43d6-848e-3a2c0a9575db",
   "metadata": {},
   "outputs": [],
   "source": []
  },
  {
   "cell_type": "code",
   "execution_count": null,
   "id": "ae67d761-439e-44c0-978f-c9384b08ab0b",
   "metadata": {},
   "outputs": [],
   "source": []
  }
 ],
 "metadata": {
  "kernelspec": {
   "display_name": "Python 3 (ipykernel)",
   "language": "python",
   "name": "python3"
  },
  "language_info": {
   "codemirror_mode": {
    "name": "ipython",
    "version": 3
   },
   "file_extension": ".py",
   "mimetype": "text/x-python",
   "name": "python",
   "nbconvert_exporter": "python",
   "pygments_lexer": "ipython3",
   "version": "3.11.7"
  }
 },
 "nbformat": 4,
 "nbformat_minor": 5
}
